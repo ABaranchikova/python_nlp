{
 "cells": [
  {
   "cell_type": "markdown",
   "metadata": {},
   "source": [
    "### Задача 1 (1 балл)"
   ]
  },
  {
   "cell_type": "markdown",
   "metadata": {},
   "source": [
    "Число 1234 записали 50 подряд, а потом полученное 200-значное число возвели в квадрат. Вывести это число."
   ]
  },
  {
   "cell_type": "code",
   "execution_count": null,
   "metadata": {
    "collapsed": true
   },
   "outputs": [],
   "source": []
  },
  {
   "cell_type": "markdown",
   "metadata": {},
   "source": [
    "Во всех задачах далее нужно написать тело функции и протестировать функцию на корректность"
   ]
  },
  {
   "cell_type": "markdown",
   "metadata": {},
   "source": [
    "### Задача 2 (2 балла)"
   ]
  },
  {
   "cell_type": "markdown",
   "metadata": {},
   "source": [
    "Посчитать 1! + 2! + 3! + 4! + ... + n! для заданного n. Решить только одним циклом"
   ]
  },
  {
   "cell_type": "code",
   "execution_count": null,
   "metadata": {
    "collapsed": true
   },
   "outputs": [],
   "source": [
    "def function_1(n):\n",
    "    #Реализуйте последовательность действий, которая будет преобразовать число n в result \n",
    "    return result\n",
    "\n",
    "#Теперь придумайте набор тестов, подтверждающих кооректность вашего алгоритма\n",
    "\n",
    "#Например\n",
    "assert function_1(1) == 1\n",
    "assert function_1(3) == 9 "
   ]
  },
  {
   "cell_type": "markdown",
   "metadata": {},
   "source": [
    "### Задача 3 (2 балла)"
   ]
  },
  {
   "cell_type": "markdown",
   "metadata": {},
   "source": [
    "Найти среднее арифметическое отрицательных элементов в списке"
   ]
  },
  {
   "cell_type": "code",
   "execution_count": 11,
   "metadata": {},
   "outputs": [],
   "source": [
    "#list_of_numbers - список чисел\n",
    "#mean - среднее арифметическое отрицательных элементов\n",
    "def function_2(list_of_numbers):\n",
    "    #тут реализуйте вычесление mean по list_of_numbers\n",
    "    return mean\n",
    "\n",
    "#Теперь придумайте набор тестов, подтверждающих кооректность вашего алгоритма\n",
    "\n",
    "#Например\n",
    "assert function_1([]) == 0\n",
    "assert function_1([1, -1, -3, 3]) == -2\n",
    "# т.д. например, что будет если список не содержит отрицательных элементов"
   ]
  },
  {
   "cell_type": "markdown",
   "metadata": {},
   "source": [
    "### Задача 4 (2 балла)"
   ]
  },
  {
   "cell_type": "markdown",
   "metadata": {},
   "source": [
    "Найти расстояние между точками с заданными координатами в n-мерном пространстве"
   ]
  },
  {
   "cell_type": "code",
   "execution_count": null,
   "metadata": {
    "collapsed": true
   },
   "outputs": [],
   "source": [
    "def function_3(point_1, point_2):\n",
    "    #тут реализуйте вычесление растояния distance между точками point_1 и point_2\n",
    "    return distance\n",
    "\n",
    "#Теперь придумайте набор тестов, подтверждающих кооректность вашего алгоритма\n",
    "\n",
    "#Например\n",
    "assert function_2((1, 0), (2, 0)) == 1"
   ]
  },
  {
   "cell_type": "markdown",
   "metadata": {},
   "source": [
    "### Задача 5 (3 балла)"
   ]
  },
  {
   "cell_type": "markdown",
   "metadata": {},
   "source": [
    "Дан список-массив, заполненный случайным образом нулями и единицами. Найти самую длинную непрерывную последовательность единиц и определить индексы первого и последнего элементов в ней"
   ]
  },
  {
   "cell_type": "code",
   "execution_count": null,
   "metadata": {
    "collapsed": true
   },
   "outputs": [],
   "source": [
    "def function_4(binary_list):\n",
    "    #место для вашей реализации\n",
    "    return len_ones_sequence, begin_index, end_index\n",
    "\n",
    "#Тесты\n",
    "assert function_3([0, 1, 0, 1, 1, 0, 0, 0]) == (2, 3, 4)"
   ]
  },
  {
   "cell_type": "markdown",
   "metadata": {},
   "source": [
    "### Задача 6 (3 балла)"
   ]
  },
  {
   "cell_type": "markdown",
   "metadata": {},
   "source": [
    "Найти суммы элементов столбцов матрицы и отсортировать столбцы матрицы по возрастанию найденных сумм"
   ]
  },
  {
   "cell_type": "code",
   "execution_count": null,
   "metadata": {
    "collapsed": true
   },
   "outputs": [],
   "source": [
    "def function_5(matrix):\n",
    "    #место для вашей реализации\n",
    "    return sort_matrix\n",
    "\n",
    "#Тесты\n",
    "assert function_5([[5, 0, 1], [1, 1, 1], [2, 2, 0]]) == [[1, 1, 1], [2, 2, 0], [5, 0, 1]]"
   ]
  },
  {
   "cell_type": "markdown",
   "metadata": {},
   "source": [
    "### Задача 7 (3 балла)"
   ]
  },
  {
   "cell_type": "markdown",
   "metadata": {},
   "source": [
    "На вход подаётся строка S и буква w. Нужно развернуть в этой строке подстроку, заключенную между первой и последней буквой w, и вернуть получившуюся строку. Если данной буквы в строке нет, то вернуть -1. Если строка содержит только одну данную букву, то вернуть строку без изменений"
   ]
  },
  {
   "cell_type": "code",
   "execution_count": null,
   "metadata": {
    "collapsed": true
   },
   "outputs": [],
   "source": [
    "def function_6(S, w):\n",
    "    #место для вашей реализации\n",
    "    return new_S\n",
    "\n",
    "#Тесты\n",
    "assert function_6('abcdefgefg', 'e') == 'abcdegfefg'"
   ]
  },
  {
   "cell_type": "markdown",
   "metadata": {},
   "source": [
    "### Задача 8 (4 балла + 2 балла за оформления в виде функции, принемающей текст на русском языке)"
   ]
  },
  {
   "cell_type": "markdown",
   "metadata": {},
   "source": [
    "Дан текст. Посчитать, сколько раз встречается каждое слово, и вывести слова в порядке убывания количество повторений слова, а при совпадении частоты встречаемости в лексикографическом порядке"
   ]
  },
  {
   "cell_type": "code",
   "execution_count": 16,
   "metadata": {},
   "outputs": [],
   "source": [
    "with open('problem_8_text.txt', 'r') as fl:\n",
    "     text = fl.read()\n",
    "#Теперь в text лежит сказка о Бабе-Яге =)\n",
    "\n",
    "#Теперь обработайте текст и сделайте красивенький вывод"
   ]
  }
 ],
 "metadata": {
  "kernelspec": {
   "display_name": "Python 3",
   "language": "python",
   "name": "python3"
  },
  "language_info": {
   "codemirror_mode": {
    "name": "ipython",
    "version": 3
   },
   "file_extension": ".py",
   "mimetype": "text/x-python",
   "name": "python",
   "nbconvert_exporter": "python",
   "pygments_lexer": "ipython3",
   "version": "3.5.2"
  }
 },
 "nbformat": 4,
 "nbformat_minor": 2
}
