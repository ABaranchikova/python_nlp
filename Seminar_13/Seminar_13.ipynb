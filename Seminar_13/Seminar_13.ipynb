{
 "cells": [
  {
   "cell_type": "markdown",
   "metadata": {},
   "source": [
    "## Построение графов взаимодействий"
   ]
  },
  {
   "cell_type": "markdown",
   "metadata": {},
   "source": [
    "**Задание 1.** Прочитайте из файла ```Грибоедов Александр. Горе от ума.txt``` пьесу. В начале текстового файла будут перечисленны героини пьесы, создайте список основных действующих лиц. Далее разделите пьесу на действия, а действия на явления. Для каждого явления получите список участвующих в нём персонажей и длину его реплики в словах. Какую структуру вы выберите для хранения данной информации?"
   ]
  },
  {
   "cell_type": "code",
   "execution_count": null,
   "metadata": {
    "collapsed": true
   },
   "outputs": [],
   "source": [
    "import re\n",
    "import numpy as np\n",
    "\n",
    "from itertools import chain\n",
    "\n",
    "with open('Грибоедов Александр. Горе от ума.txt') as fl:\n",
    "    piece = fl.read()\n",
    "    \n",
    "heroes = [re.sub('\\.', '', hero).strip() for hero in piece.split('\\n\\n\\n')[1].split('\\n')]\n",
    "\n",
    "def get_horoes(action, heroes):\n",
    "    action_heros = {}\n",
    "    \n",
    "    items = [re.sub('\\n\\(.*\\) \\n', '', item).strip() for item in action.split('\\n\\n\\n')]\n",
    "    for item in items:\n",
    "        item = item.split('\\n')\n",
    "        \n",
    "        hero = item[0].strip()\n",
    "        if hero == 'София': hero = 'Софья'\n",
    "        if hero == 'Лизанька': hero = 'Лиза'\n",
    "        \n",
    "        speach = ' '.join(item[1:]).strip()\n",
    "        if not(speach and np.any([hero in hero_ for hero_ in heroes])):\n",
    "            continue\n",
    "            \n",
    "        action_heros.setdefault(hero, 0)\n",
    "        action_heros[hero] += len(re.findall('\\w\\w+', speach.lower()))\n",
    "    \n",
    "    return action_heros\n",
    "\n",
    "actions = re.split('ДЕЙСТВИЕ [IV]{1,3}', piece)[1:]\n",
    "actions = [action.strip() for action in actions]\n",
    "actions = [[item.strip() for item in re.split('Явление \\d{1,2}', action) if item.strip()]\n",
    "           for action in actions]\n",
    "actions = [[((i, j), item) for j, item in enumerate(action, 1)] \n",
    "           for i, action in enumerate(actions, 1)]\n",
    "actions = list(chain(*actions))\n",
    "actions = [(number, get_horoes(action, heroes)) for number, action in actions]"
   ]
  },
  {
   "cell_type": "markdown",
   "metadata": {},
   "source": [
    "**Задание 2**. После выполнения первого задания у вас должна быть реализована структура, из которой вы сможете для каждого действия и каждого явления определить, какие персонажи в нём участвовали. Выведите на экран список уникальных персонажей, которых вам удалось выделить в пьесе. Сколько таких персонажей? \n",
    "\n",
    "Замечание: Список уникальных персонажей вы должно получить с помощью одной строчки кода =) "
   ]
  },
  {
   "cell_type": "code",
   "execution_count": null,
   "metadata": {
    "collapsed": true
   },
   "outputs": [],
   "source": []
  },
  {
   "cell_type": "markdown",
   "metadata": {},
   "source": [
    "**Задание 3.** Формирование матрицы взаимодействий.\n",
    "\n",
    "Будем считать, что персонажи вступили во взаимодействие, если они вместе участвовали в явлении. \n",
    "\n",
    "Пусть у нас $N$ уникальных персонажей. Создайте квадратную матрицу из нулей разъмера N. Каждому персонажу присвойте номер от $0$ до $N-1$.\n",
    "\n",
    "Тогда, если в некотором явление участвовал список персонажей $\\{n_1, n_2, n3\\}$, то значения матрицы взаимодействий $A$ обновляются следующим образом:\n",
    "\n",
    "$$A[i, j] = A[i, j] + 1$$ где $i \\neq j \\in \\{n_1, n_2, n3\\}$\n",
    "\n",
    "Уникальные номера персонажам присвойте с помощью [LabelEncoder](sklearn.preprocessing.LabelEncoder)\n",
    "\n",
    "Матрицу взаимосвязей визуализируйте с помощью [matshow](https://matplotlib.org/api/_as_gen/matplotlib.pyplot.matshow.html#matplotlib.pyplot.matshow). А также воспользуйтесь [colorbar](https://matplotlib.org/api/_as_gen/matplotlib.pyplot.colorbar.html) и [xticks/yticks](https://matplotlib.org/api/_as_gen/matplotlib.pyplot.xticks.html)\n",
    "\n",
    "Какие персонажи чаще всего взаимодействуют?"
   ]
  },
  {
   "cell_type": "code",
   "execution_count": null,
   "metadata": {
    "collapsed": true
   },
   "outputs": [],
   "source": []
  },
  {
   "cell_type": "markdown",
   "metadata": {},
   "source": [
    "**Задание 4.** Постройте граф взаимасвязей с помощью [NetworkX](https://pypi.org/project/networkx/) ([Хабрахабра](https://habrahabr.ru/post/125898/))"
   ]
  },
  {
   "cell_type": "code",
   "execution_count": null,
   "metadata": {
    "collapsed": true
   },
   "outputs": [],
   "source": []
  },
  {
   "cell_type": "markdown",
   "metadata": {},
   "source": [
    "**Задание 5.** Вспомним, что в первом задании мы так же сохраняли информацию о том, сколько слов произнёс каждый персонаж. \n",
    "\n",
    "Пусть в некотором явлении участвовало некоторое подмножество персонажей и мы знаем их вес -- количество слов: $\\{n_1:w_1, n_2:w_2, n_3:w3\\}$. Также допустим, что $w_1 > w_2, w_1 > w3$ -- первый действующий персонаж произнёс больше всех слов. \n",
    "\n",
    "Тогда считаем, что персонаж $n_1$ воздействовал на персонажей $n_2$ и $n_3$. Преобразуем матрицу взаимодействий следующим образом:\n",
    "\n",
    "$$ A[n_1, j] = A[n_1, j] + 1 $$ где $j \\in \\{n_2, n_3\\}$\n",
    "\n",
    "Таким образом матрица $A$ получится не симметричной, а соответсвующий граф взаимодействий направленным.\n",
    "\n",
    "Нарисуте граф взаимодействий"
   ]
  },
  {
   "cell_type": "code",
   "execution_count": null,
   "metadata": {
    "collapsed": true
   },
   "outputs": [],
   "source": []
  }
 ],
 "metadata": {
  "kernelspec": {
   "display_name": "Python 3",
   "language": "python",
   "name": "python3"
  },
  "language_info": {
   "codemirror_mode": {
    "name": "ipython",
    "version": 3
   },
   "file_extension": ".py",
   "mimetype": "text/x-python",
   "name": "python",
   "nbconvert_exporter": "python",
   "pygments_lexer": "ipython3",
   "version": "3.6.3"
  }
 },
 "nbformat": 4,
 "nbformat_minor": 2
}
