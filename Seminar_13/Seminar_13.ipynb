{
 "cells": [
  {
   "cell_type": "markdown",
   "metadata": {},
   "source": [
    "## Построение графов взаимодействий"
   ]
  },
  {
   "cell_type": "markdown",
   "metadata": {},
   "source": [
    "**Задание 1.** Прочитайте из файла ```Грибоедов Александр. Горе от ума.txt``` пьесу. В начале текстового файла будут перечисленны героини пьесы, создайте список основных действующих лиц. Далее разделите пьесу на действия, а действия на явления. Для каждого явления получите список участвующих в нём персонажей и длину его реплики в словах. Какую структуру вы выберите для хранения данной информации?"
   ]
  },
  {
   "cell_type": "code",
   "execution_count": null,
   "metadata": {
    "collapsed": true
   },
   "outputs": [],
   "source": []
  },
  {
   "cell_type": "markdown",
   "metadata": {},
   "source": [
    "**Задание 2**. После выполнения первого задания у вас должна быть реализована структура, из которой вы сможете для каждого действия и каждого явления определить, какие персонажи в нём участвовали. Выведите на экран список уникальных персонажей, которых вам удалось выделить в пьесе. Сколько таких персонажей? \n",
    "\n",
    "Замечание: Список уникальных персонажей вы должно получить с помощью одной строчки кода =) "
   ]
  },
  {
   "cell_type": "code",
   "execution_count": null,
   "metadata": {
    "collapsed": true
   },
   "outputs": [],
   "source": []
  },
  {
   "cell_type": "markdown",
   "metadata": {},
   "source": [
    "**Задание 3.** Формирование матрицы взаимодействий.\n",
    "\n",
    "Будем считать, что персонажи вступили во взаимодействие, если они вместе участвовали в явлении. \n",
    "\n",
    "Пусть у нас $N$ уникальных персонажей. Создайте квадратную матрицу из нулей разъмера N. Каждому персонажу присвойте номер от $0$ до $N-1$.\n",
    "\n",
    "Тогда, если в некотором явление участвовал список персонажей $\\{n_1, n_2, n3\\}$, то значения матрицы взаимодействий $A$ обновляются следующим образом:\n",
    "\n",
    "$$A[i, j] = A[i, j] + 1$$ где $i \\neq j \\in \\{n_1, n_2, n3\\}$\n",
    "\n",
    "Уникальные номера персонажам присвойте с помощью [LabelEncoder](sklearn.preprocessing.LabelEncoder)\n",
    "\n",
    "Матрицу взаимосвязей визуализируйте с помощью [matshow](https://matplotlib.org/api/_as_gen/matplotlib.pyplot.matshow.html#matplotlib.pyplot.matshow). А также воспользуйтесь [colorbar](https://matplotlib.org/api/_as_gen/matplotlib.pyplot.colorbar.html) и [xticks/yticks](https://matplotlib.org/api/_as_gen/matplotlib.pyplot.xticks.html)\n",
    "\n",
    "Какие персонажи чаще всего взаимодействуют?"
   ]
  },
  {
   "cell_type": "code",
   "execution_count": null,
   "metadata": {
    "collapsed": true
   },
   "outputs": [],
   "source": []
  },
  {
   "cell_type": "markdown",
   "metadata": {},
   "source": [
    "**Задание 4.** Постройте граф взаимасвязей с помощью [NetworkX](https://pypi.org/project/networkx/) ([Хабрахабра](https://habrahabr.ru/post/125898/))"
   ]
  },
  {
   "cell_type": "code",
   "execution_count": null,
   "metadata": {
    "collapsed": true
   },
   "outputs": [],
   "source": []
  },
  {
   "cell_type": "markdown",
   "metadata": {},
   "source": [
    "**Задание 5.** Вспомним, что в первом задании мы так же сохраняли информацию о том, сколько слов произнёс каждый персонаж. \n",
    "\n",
    "Пусть в некотором явлении участвовало некоторое подмножество персонажей и мы знаем их вес -- количество слов: $\\{n_1:w_1, n_2:w_2, n_3:w3\\}$. Также допустим, что $w_1 > w_2, w_1 > w3$ -- первый действующий персонаж произнёс больше всех слов. \n",
    "\n",
    "Тогда считаем, что персонаж $n_1$ воздействовал на персонажей $n_2$ и $n_3$. Преобразуем матрицу взаимодействий следующим образом:\n",
    "\n",
    "$$ A[n_1, j] = A[n_1, j] + 1 $$ где $j \\in \\{n_2, n_3\\}$\n",
    "\n",
    "Таким образом матрица $A$ получится не симметричной, а соответсвующий граф взаимодействий направленным.\n",
    "\n",
    "Нарисуте граф взаимодействий"
   ]
  },
  {
   "cell_type": "code",
   "execution_count": null,
   "metadata": {
    "collapsed": true
   },
   "outputs": [],
   "source": []
  }
 ],
 "metadata": {
  "kernelspec": {
   "display_name": "Python 3",
   "language": "python",
   "name": "python3"
  },
  "language_info": {
   "codemirror_mode": {
    "name": "ipython",
    "version": 3
   },
   "file_extension": ".py",
   "mimetype": "text/x-python",
   "name": "python",
   "nbconvert_exporter": "python",
   "pygments_lexer": "ipython3",
   "version": "3.6.3"
  }
 },
 "nbformat": 4,
 "nbformat_minor": 2
}
