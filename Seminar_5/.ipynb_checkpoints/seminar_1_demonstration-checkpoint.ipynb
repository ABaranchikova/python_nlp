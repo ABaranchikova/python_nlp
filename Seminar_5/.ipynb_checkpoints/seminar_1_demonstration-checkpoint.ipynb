{
 "cells": [
  {
   "cell_type": "markdown",
   "metadata": {},
   "source": [
    "# Введение в инструменты Python для анализа данных"
   ]
  },
  {
   "cell_type": "markdown",
   "metadata": {},
   "source": [
    "Решим одну и ту же задачу с помощью различных инструментов в Python."
   ]
  },
  {
   "cell_type": "markdown",
   "metadata": {},
   "source": [
    "Эта директива используется для отображения графиков прямо в Jupyter. Рекомендуем всегда не задумываясь вставлять ее в свои ноутбуки."
   ]
  },
  {
   "cell_type": "code",
   "execution_count": 1,
   "metadata": {},
   "outputs": [
    {
     "name": "stdout",
     "output_type": "stream",
     "text": [
      "Populating the interactive namespace from numpy and matplotlib\n"
     ]
    }
   ],
   "source": [
    "%pylab inline"
   ]
  },
  {
   "cell_type": "markdown",
   "metadata": {},
   "source": [
    "### Считаем данные с помощью чистого Python"
   ]
  },
  {
   "cell_type": "markdown",
   "metadata": {},
   "source": [
    "Попробуем что-нибудь поделать средствами чистого Python без дополнительных библиотек. Посмотрим на содержание файла с демонстрационными данными для многоклассовой классификации."
   ]
  },
  {
   "cell_type": "code",
   "execution_count": 54,
   "metadata": {},
   "outputs": [
    {
     "name": "stdout",
     "output_type": "stream",
     "text": [
      "total 944\r\n",
      "-rw-r--r--@ 1 mel-lain  593637566     194  3 фев 18:24 data.txt\r\n",
      "-rw-r--r--@ 1 mel-lain  593637566  188015  5 фев 15:20 lab_1_with_solution.ipynb\r\n",
      "-rw-r--r--@ 1 mel-lain  593637566   30833  5 фев 01:04 python_tutorial.ipynb\r\n",
      "-rw-r--r--@ 1 mel-lain  593637566  195642  3 фев 18:58 seminar_1_demonstration.ipynb\r\n",
      "-rw-r--r--@ 1 mel-lain  593637566   61194  3 фев 20:46 titanic.csv\r\n"
     ]
    }
   ],
   "source": [
    "!ls -l"
   ]
  },
  {
   "cell_type": "code",
   "execution_count": 55,
   "metadata": {},
   "outputs": [
    {
     "name": "stdout",
     "output_type": "stream",
     "text": [
      "Feature1,Weight,Height,Bla-bla,Size,Class\n",
      "10.0,12,344,0,23.0,Class1\n",
      "7.2,12,208,0,18.0,Class2\n",
      "19.0,11,344,1,21.0,Class4\n",
      "7.2,13,208,0,20.0,Class2\n",
      "9.2,20,208,0,17.0,Class1\n",
      "19.0,11,254,2,11.0,Class3\n"
     ]
    }
   ],
   "source": [
    "with open('data.txt') as data_file:\n",
    "    print data_file.read()"
   ]
  },
  {
   "cell_type": "markdown",
   "metadata": {},
   "source": [
    "Можно увидеть, что первая строчка является заголовком, а каждая следующая строчка — описанием объекта. Последний столбец является меткой класса. В машинном обучении его еще называют целевой меткой, потому что его в дальнейшем нужно будет предсказывать. Все остальные столбцы называются признаковым описанием объектов или просто признаками."
   ]
  },
  {
   "cell_type": "markdown",
   "metadata": {},
   "source": [
    "Считаем данные и сохраним в удобном для нас формате"
   ]
  },
  {
   "cell_type": "code",
   "execution_count": 56,
   "metadata": {},
   "outputs": [
    {
     "data": {
      "text/plain": [
       "[{'features': [10.0, 12.0, 344.0, 0.0, 23.0], 'label': 'Class1'},\n",
       " {'features': [7.2, 12.0, 208.0, 0.0, 18.0], 'label': 'Class2'},\n",
       " {'features': [19.0, 11.0, 344.0, 1.0, 21.0], 'label': 'Class4'},\n",
       " {'features': [7.2, 13.0, 208.0, 0.0, 20.0], 'label': 'Class2'},\n",
       " {'features': [9.2, 20.0, 208.0, 0.0, 17.0], 'label': 'Class1'},\n",
       " {'features': [19.0, 11.0, 254.0, 2.0, 11.0], 'label': 'Class3'}]"
      ]
     },
     "execution_count": 56,
     "metadata": {},
     "output_type": "execute_result"
    }
   ],
   "source": [
    "points = []\n",
    "with open('data.txt', 'r') as fin:\n",
    "    fin.next() # skip first line\n",
    "    for line in fin:\n",
    "        columns = line.strip().split(',')\n",
    "        features = [float(feature) for feature in columns[: 5]]\n",
    "        label = columns[5]\n",
    "        points.append({'features': features, 'label': label})\n",
    "\n",
    "points"
   ]
  },
  {
   "cell_type": "markdown",
   "metadata": {},
   "source": [
    "Теперь можно выполнить простейшую аналитику по набору данных. Давайте посчитаем количество объектов каждого класса."
   ]
  },
  {
   "cell_type": "code",
   "execution_count": 57,
   "metadata": {},
   "outputs": [
    {
     "name": "stdout",
     "output_type": "stream",
     "text": [
      "defaultdict(<type 'int'>, {'Class4': 1, 'Class2': 2, 'Class3': 1, 'Class1': 2})\n"
     ]
    }
   ],
   "source": [
    "from collections import defaultdict\n",
    "counter = defaultdict(int)\n",
    "for point in points:\n",
    "    counter[point['label']] += 1\n",
    "print counter"
   ]
  },
  {
   "cell_type": "markdown",
   "metadata": {},
   "source": [
    "Пока не будем обучать модели машинного обучения. Займемся этим на следующих занятиях :)"
   ]
  },
  {
   "cell_type": "markdown",
   "metadata": {},
   "source": [
    "### Считаем аналогичные данные с помощью специализированных библиотек"
   ]
  },
  {
   "cell_type": "markdown",
   "metadata": {},
   "source": [
    "Подключаем библиотеку pandas, предназначенную для считывания, предобработки, быстрой визуализации и простой аналитики по набору данных."
   ]
  },
  {
   "cell_type": "code",
   "execution_count": 1,
   "metadata": {},
   "outputs": [],
   "source": [
    "import pandas as pd"
   ]
  },
  {
   "cell_type": "markdown",
   "metadata": {},
   "source": [
    "Считаем данные в специализированный объект класса pandas.DataFrame, который представляет из себя таблицу с проименованными строками и столбцами."
   ]
  },
  {
   "cell_type": "code",
   "execution_count": 2,
   "metadata": {},
   "outputs": [
    {
     "data": {
      "text/html": [
       "<div>\n",
       "<table border=\"1\" class=\"dataframe\">\n",
       "  <thead>\n",
       "    <tr style=\"text-align: right;\">\n",
       "      <th></th>\n",
       "      <th>Feature1</th>\n",
       "      <th>Weight</th>\n",
       "      <th>Height</th>\n",
       "      <th>Bla-bla</th>\n",
       "      <th>Size</th>\n",
       "      <th>Class</th>\n",
       "    </tr>\n",
       "  </thead>\n",
       "  <tbody>\n",
       "    <tr>\n",
       "      <th>0</th>\n",
       "      <td>10.0</td>\n",
       "      <td>12</td>\n",
       "      <td>344</td>\n",
       "      <td>0</td>\n",
       "      <td>23.0</td>\n",
       "      <td>Class1</td>\n",
       "    </tr>\n",
       "    <tr>\n",
       "      <th>1</th>\n",
       "      <td>7.2</td>\n",
       "      <td>12</td>\n",
       "      <td>208</td>\n",
       "      <td>0</td>\n",
       "      <td>18.0</td>\n",
       "      <td>Class2</td>\n",
       "    </tr>\n",
       "    <tr>\n",
       "      <th>2</th>\n",
       "      <td>19.0</td>\n",
       "      <td>11</td>\n",
       "      <td>344</td>\n",
       "      <td>1</td>\n",
       "      <td>21.0</td>\n",
       "      <td>Class4</td>\n",
       "    </tr>\n",
       "    <tr>\n",
       "      <th>3</th>\n",
       "      <td>7.2</td>\n",
       "      <td>13</td>\n",
       "      <td>208</td>\n",
       "      <td>0</td>\n",
       "      <td>20.0</td>\n",
       "      <td>Class2</td>\n",
       "    </tr>\n",
       "    <tr>\n",
       "      <th>4</th>\n",
       "      <td>9.2</td>\n",
       "      <td>20</td>\n",
       "      <td>208</td>\n",
       "      <td>0</td>\n",
       "      <td>17.0</td>\n",
       "      <td>Class1</td>\n",
       "    </tr>\n",
       "    <tr>\n",
       "      <th>5</th>\n",
       "      <td>19.0</td>\n",
       "      <td>11</td>\n",
       "      <td>254</td>\n",
       "      <td>2</td>\n",
       "      <td>11.0</td>\n",
       "      <td>Class3</td>\n",
       "    </tr>\n",
       "  </tbody>\n",
       "</table>\n",
       "</div>"
      ],
      "text/plain": [
       "   Feature1  Weight  Height  Bla-bla  Size   Class\n",
       "0      10.0      12     344        0  23.0  Class1\n",
       "1       7.2      12     208        0  18.0  Class2\n",
       "2      19.0      11     344        1  21.0  Class4\n",
       "3       7.2      13     208        0  20.0  Class2\n",
       "4       9.2      20     208        0  17.0  Class1\n",
       "5      19.0      11     254        2  11.0  Class3"
      ]
     },
     "execution_count": 2,
     "metadata": {},
     "output_type": "execute_result"
    }
   ],
   "source": [
    "df = pd.read_csv('data.txt')\n",
    "df"
   ]
  },
  {
   "cell_type": "markdown",
   "metadata": {},
   "source": [
    "Срезы в DataFrame берутся по строкам"
   ]
  },
  {
   "cell_type": "code",
   "execution_count": 10,
   "metadata": {},
   "outputs": [
    {
     "data": {
      "text/html": [
       "<div>\n",
       "<table border=\"1\" class=\"dataframe\">\n",
       "  <thead>\n",
       "    <tr style=\"text-align: right;\">\n",
       "      <th></th>\n",
       "      <th>Feature1</th>\n",
       "      <th>Weight</th>\n",
       "      <th>Height</th>\n",
       "      <th>Bla-bla</th>\n",
       "      <th>Size</th>\n",
       "      <th>Class</th>\n",
       "    </tr>\n",
       "  </thead>\n",
       "  <tbody>\n",
       "    <tr>\n",
       "      <th>2</th>\n",
       "      <td>19.0</td>\n",
       "      <td>11</td>\n",
       "      <td>344</td>\n",
       "      <td>1</td>\n",
       "      <td>21.0</td>\n",
       "      <td>Class4</td>\n",
       "    </tr>\n",
       "    <tr>\n",
       "      <th>3</th>\n",
       "      <td>7.2</td>\n",
       "      <td>13</td>\n",
       "      <td>208</td>\n",
       "      <td>0</td>\n",
       "      <td>20.0</td>\n",
       "      <td>Class2</td>\n",
       "    </tr>\n",
       "    <tr>\n",
       "      <th>4</th>\n",
       "      <td>9.2</td>\n",
       "      <td>20</td>\n",
       "      <td>208</td>\n",
       "      <td>0</td>\n",
       "      <td>17.0</td>\n",
       "      <td>Class1</td>\n",
       "    </tr>\n",
       "  </tbody>\n",
       "</table>\n",
       "</div>"
      ],
      "text/plain": [
       "   Feature1  Weight  Height  Bla-bla  Size   Class\n",
       "2      19.0      11     344        1  21.0  Class4\n",
       "3       7.2      13     208        0  20.0  Class2\n",
       "4       9.2      20     208        0  17.0  Class1"
      ]
     },
     "execution_count": 10,
     "metadata": {},
     "output_type": "execute_result"
    }
   ],
   "source": [
    "df[2:5]"
   ]
  },
  {
   "cell_type": "markdown",
   "metadata": {},
   "source": [
    "Зато обращение по одному индексу означает столбец. "
   ]
  },
  {
   "cell_type": "code",
   "execution_count": 11,
   "metadata": {},
   "outputs": [
    {
     "data": {
      "text/plain": [
       "0    Class1\n",
       "1    Class2\n",
       "2    Class4\n",
       "3    Class2\n",
       "4    Class1\n",
       "5    Class3\n",
       "Name: Class, dtype: object"
      ]
     },
     "execution_count": 11,
     "metadata": {},
     "output_type": "execute_result"
    }
   ],
   "source": [
    "df['Class']"
   ]
  },
  {
   "cell_type": "markdown",
   "metadata": {},
   "source": [
    "Либо можно передать список названий столбцов:"
   ]
  },
  {
   "cell_type": "code",
   "execution_count": 12,
   "metadata": {},
   "outputs": [
    {
     "data": {
      "text/html": [
       "<div>\n",
       "<table border=\"1\" class=\"dataframe\">\n",
       "  <thead>\n",
       "    <tr style=\"text-align: right;\">\n",
       "      <th></th>\n",
       "      <th>Weight</th>\n",
       "      <th>Height</th>\n",
       "      <th>Size</th>\n",
       "    </tr>\n",
       "  </thead>\n",
       "  <tbody>\n",
       "    <tr>\n",
       "      <th>0</th>\n",
       "      <td>12</td>\n",
       "      <td>344</td>\n",
       "      <td>23.0</td>\n",
       "    </tr>\n",
       "    <tr>\n",
       "      <th>1</th>\n",
       "      <td>12</td>\n",
       "      <td>208</td>\n",
       "      <td>18.0</td>\n",
       "    </tr>\n",
       "    <tr>\n",
       "      <th>2</th>\n",
       "      <td>11</td>\n",
       "      <td>344</td>\n",
       "      <td>21.0</td>\n",
       "    </tr>\n",
       "    <tr>\n",
       "      <th>3</th>\n",
       "      <td>13</td>\n",
       "      <td>208</td>\n",
       "      <td>20.0</td>\n",
       "    </tr>\n",
       "    <tr>\n",
       "      <th>4</th>\n",
       "      <td>20</td>\n",
       "      <td>208</td>\n",
       "      <td>17.0</td>\n",
       "    </tr>\n",
       "    <tr>\n",
       "      <th>5</th>\n",
       "      <td>11</td>\n",
       "      <td>254</td>\n",
       "      <td>11.0</td>\n",
       "    </tr>\n",
       "  </tbody>\n",
       "</table>\n",
       "</div>"
      ],
      "text/plain": [
       "   Weight  Height  Size\n",
       "0      12     344  23.0\n",
       "1      12     208  18.0\n",
       "2      11     344  21.0\n",
       "3      13     208  20.0\n",
       "4      20     208  17.0\n",
       "5      11     254  11.0"
      ]
     },
     "execution_count": 12,
     "metadata": {},
     "output_type": "execute_result"
    }
   ],
   "source": [
    "df[['Weight', 'Height', 'Size']]"
   ]
  },
  {
   "cell_type": "markdown",
   "metadata": {},
   "source": [
    "Возьмем столбец с меткой класса и посчитаем количество элементов каждого значения в нем с помощью стандартной функции."
   ]
  },
  {
   "cell_type": "code",
   "execution_count": 13,
   "metadata": {},
   "outputs": [
    {
     "data": {
      "text/plain": [
       "Class1    2\n",
       "Class2    2\n",
       "Class3    1\n",
       "Class4    1\n",
       "Name: Class, dtype: int64"
      ]
     },
     "execution_count": 13,
     "metadata": {},
     "output_type": "execute_result"
    }
   ],
   "source": [
    "df['Class'].value_counts()"
   ]
  },
  {
   "cell_type": "markdown",
   "metadata": {},
   "source": [
    "Кроме того, это можно быстро визуализировать."
   ]
  },
  {
   "cell_type": "code",
   "execution_count": 22,
   "metadata": {},
   "outputs": [
    {
     "data": {
      "text/plain": [
       "<matplotlib.axes._subplots.AxesSubplot at 0x10f832c10>"
      ]
     },
     "execution_count": 22,
     "metadata": {},
     "output_type": "execute_result"
    },
    {
     "data": {
      "image/png": "[encoded data removed]",
      "text/plain": [
       "<matplotlib.figure.Figure at 0x10f6f6fd0>"
      ]
     },
     "metadata": {},
     "output_type": "display_data"
    }
   ],
   "source": [
    "df['Class'].value_counts().plot(kind='barh', color=\"blue\", alpha=.5)"
   ]
  },
  {
   "cell_type": "markdown",
   "metadata": {},
   "source": [
    "DataFrame поддерживает возможность работы в стиле БД. Например, есть операции groupby и join.\n",
    "\n",
    "О разных видах join, а также об операциях merge и concatenate можно прочесть тут: http://pandas.pydata.org/pandas-docs/stable/merging.html\n",
    "\n",
    "Сгруппируем наши данные по полю Bla-bla и посчитаем максимальный Size в каждой группе:"
   ]
  },
  {
   "cell_type": "code",
   "execution_count": 8,
   "metadata": {},
   "outputs": [
    {
     "data": {
      "text/plain": [
       "Bla-bla\n",
       "0    23.0\n",
       "1    21.0\n",
       "2    11.0\n",
       "Name: Size, dtype: float64"
      ]
     },
     "execution_count": 8,
     "metadata": {},
     "output_type": "execute_result"
    }
   ],
   "source": [
    "df.groupby('Bla-bla')['Size'].max()"
   ]
  },
  {
   "cell_type": "markdown",
   "metadata": {},
   "source": [
    "Простой join двух табличек по индексам индексам:"
   ]
  },
  {
   "cell_type": "code",
   "execution_count": 11,
   "metadata": {},
   "outputs": [
    {
     "data": {
      "text/html": [
       "<div>\n",
       "<table border=\"1\" class=\"dataframe\">\n",
       "  <thead>\n",
       "    <tr style=\"text-align: right;\">\n",
       "      <th></th>\n",
       "      <th>Feature1</th>\n",
       "      <th>Weight</th>\n",
       "      <th>Height</th>\n",
       "      <th>Bla-bla</th>\n",
       "      <th>Size</th>\n",
       "      <th>Class</th>\n",
       "      <th>Feature1_2</th>\n",
       "      <th>Weight_2</th>\n",
       "      <th>Height_2</th>\n",
       "      <th>Bla-bla_2</th>\n",
       "      <th>Size_2</th>\n",
       "      <th>Class_2</th>\n",
       "    </tr>\n",
       "  </thead>\n",
       "  <tbody>\n",
       "    <tr>\n",
       "      <th>0</th>\n",
       "      <td>10.0</td>\n",
       "      <td>12</td>\n",
       "      <td>344</td>\n",
       "      <td>0</td>\n",
       "      <td>23.0</td>\n",
       "      <td>Class1</td>\n",
       "      <td>10.0</td>\n",
       "      <td>12</td>\n",
       "      <td>344</td>\n",
       "      <td>0</td>\n",
       "      <td>23.0</td>\n",
       "      <td>Class1</td>\n",
       "    </tr>\n",
       "    <tr>\n",
       "      <th>1</th>\n",
       "      <td>7.2</td>\n",
       "      <td>12</td>\n",
       "      <td>208</td>\n",
       "      <td>0</td>\n",
       "      <td>18.0</td>\n",
       "      <td>Class2</td>\n",
       "      <td>7.2</td>\n",
       "      <td>12</td>\n",
       "      <td>208</td>\n",
       "      <td>0</td>\n",
       "      <td>18.0</td>\n",
       "      <td>Class2</td>\n",
       "    </tr>\n",
       "    <tr>\n",
       "      <th>2</th>\n",
       "      <td>19.0</td>\n",
       "      <td>11</td>\n",
       "      <td>344</td>\n",
       "      <td>1</td>\n",
       "      <td>21.0</td>\n",
       "      <td>Class4</td>\n",
       "      <td>19.0</td>\n",
       "      <td>11</td>\n",
       "      <td>344</td>\n",
       "      <td>1</td>\n",
       "      <td>21.0</td>\n",
       "      <td>Class4</td>\n",
       "    </tr>\n",
       "    <tr>\n",
       "      <th>3</th>\n",
       "      <td>7.2</td>\n",
       "      <td>13</td>\n",
       "      <td>208</td>\n",
       "      <td>0</td>\n",
       "      <td>20.0</td>\n",
       "      <td>Class2</td>\n",
       "      <td>7.2</td>\n",
       "      <td>13</td>\n",
       "      <td>208</td>\n",
       "      <td>0</td>\n",
       "      <td>20.0</td>\n",
       "      <td>Class2</td>\n",
       "    </tr>\n",
       "    <tr>\n",
       "      <th>4</th>\n",
       "      <td>9.2</td>\n",
       "      <td>20</td>\n",
       "      <td>208</td>\n",
       "      <td>0</td>\n",
       "      <td>17.0</td>\n",
       "      <td>Class1</td>\n",
       "      <td>9.2</td>\n",
       "      <td>20</td>\n",
       "      <td>208</td>\n",
       "      <td>0</td>\n",
       "      <td>17.0</td>\n",
       "      <td>Class1</td>\n",
       "    </tr>\n",
       "    <tr>\n",
       "      <th>5</th>\n",
       "      <td>19.0</td>\n",
       "      <td>11</td>\n",
       "      <td>254</td>\n",
       "      <td>2</td>\n",
       "      <td>11.0</td>\n",
       "      <td>Class3</td>\n",
       "      <td>19.0</td>\n",
       "      <td>11</td>\n",
       "      <td>254</td>\n",
       "      <td>2</td>\n",
       "      <td>11.0</td>\n",
       "      <td>Class3</td>\n",
       "    </tr>\n",
       "  </tbody>\n",
       "</table>\n",
       "</div>"
      ],
      "text/plain": [
       "   Feature1  Weight  Height  Bla-bla  Size   Class  Feature1_2  Weight_2  \\\n",
       "0      10.0      12     344        0  23.0  Class1        10.0        12   \n",
       "1       7.2      12     208        0  18.0  Class2         7.2        12   \n",
       "2      19.0      11     344        1  21.0  Class4        19.0        11   \n",
       "3       7.2      13     208        0  20.0  Class2         7.2        13   \n",
       "4       9.2      20     208        0  17.0  Class1         9.2        20   \n",
       "5      19.0      11     254        2  11.0  Class3        19.0        11   \n",
       "\n",
       "   Height_2  Bla-bla_2  Size_2 Class_2  \n",
       "0       344          0    23.0  Class1  \n",
       "1       208          0    18.0  Class2  \n",
       "2       344          1    21.0  Class4  \n",
       "3       208          0    20.0  Class2  \n",
       "4       208          0    17.0  Class1  \n",
       "5       254          2    11.0  Class3  "
      ]
     },
     "execution_count": 11,
     "metadata": {},
     "output_type": "execute_result"
    }
   ],
   "source": [
    "df_2 = df.copy()\n",
    "df_2.columns = ['{}_2'.format(name) for name in df.columns]\n",
    "df.join(df_2)"
   ]
  },
  {
   "cell_type": "markdown",
   "metadata": {},
   "source": [
    "Join можно делать самыми разными способами, например, можно делать inner или outer join:"
   ]
  },
  {
   "cell_type": "code",
   "execution_count": 13,
   "metadata": {},
   "outputs": [
    {
     "data": {
      "text/html": [
       "<div>\n",
       "<table border=\"1\" class=\"dataframe\">\n",
       "  <thead>\n",
       "    <tr style=\"text-align: right;\">\n",
       "      <th></th>\n",
       "      <th>Feature1</th>\n",
       "      <th>Weight</th>\n",
       "      <th>Height</th>\n",
       "      <th>Bla-bla</th>\n",
       "      <th>Size</th>\n",
       "      <th>Class</th>\n",
       "      <th>Feature1_2</th>\n",
       "      <th>Weight_2</th>\n",
       "      <th>Height_2</th>\n",
       "      <th>Bla-bla_2</th>\n",
       "      <th>Size_2</th>\n",
       "      <th>Class_2</th>\n",
       "    </tr>\n",
       "  </thead>\n",
       "  <tbody>\n",
       "    <tr>\n",
       "      <th>2</th>\n",
       "      <td>19.0</td>\n",
       "      <td>11</td>\n",
       "      <td>344</td>\n",
       "      <td>1</td>\n",
       "      <td>21.0</td>\n",
       "      <td>Class4</td>\n",
       "      <td>19.0</td>\n",
       "      <td>11</td>\n",
       "      <td>344</td>\n",
       "      <td>1</td>\n",
       "      <td>21.0</td>\n",
       "      <td>Class4</td>\n",
       "    </tr>\n",
       "    <tr>\n",
       "      <th>3</th>\n",
       "      <td>7.2</td>\n",
       "      <td>13</td>\n",
       "      <td>208</td>\n",
       "      <td>0</td>\n",
       "      <td>20.0</td>\n",
       "      <td>Class2</td>\n",
       "      <td>7.2</td>\n",
       "      <td>13</td>\n",
       "      <td>208</td>\n",
       "      <td>0</td>\n",
       "      <td>20.0</td>\n",
       "      <td>Class2</td>\n",
       "    </tr>\n",
       "  </tbody>\n",
       "</table>\n",
       "</div>"
      ],
      "text/plain": [
       "   Feature1  Weight  Height  Bla-bla  Size   Class  Feature1_2  Weight_2  \\\n",
       "2      19.0      11     344        1  21.0  Class4        19.0        11   \n",
       "3       7.2      13     208        0  20.0  Class2         7.2        13   \n",
       "\n",
       "   Height_2  Bla-bla_2  Size_2 Class_2  \n",
       "2       344          1    21.0  Class4  \n",
       "3       208          0    20.0  Class2  "
      ]
     },
     "execution_count": 13,
     "metadata": {},
     "output_type": "execute_result"
    }
   ],
   "source": [
    "df[0: 4].join(df_2[2: ], how='inner')"
   ]
  },
  {
   "cell_type": "code",
   "execution_count": 14,
   "metadata": {},
   "outputs": [
    {
     "data": {
      "text/html": [
       "<div>\n",
       "<table border=\"1\" class=\"dataframe\">\n",
       "  <thead>\n",
       "    <tr style=\"text-align: right;\">\n",
       "      <th></th>\n",
       "      <th>Feature1</th>\n",
       "      <th>Weight</th>\n",
       "      <th>Height</th>\n",
       "      <th>Bla-bla</th>\n",
       "      <th>Size</th>\n",
       "      <th>Class</th>\n",
       "      <th>Feature1_2</th>\n",
       "      <th>Weight_2</th>\n",
       "      <th>Height_2</th>\n",
       "      <th>Bla-bla_2</th>\n",
       "      <th>Size_2</th>\n",
       "      <th>Class_2</th>\n",
       "    </tr>\n",
       "  </thead>\n",
       "  <tbody>\n",
       "    <tr>\n",
       "      <th>0</th>\n",
       "      <td>10.0</td>\n",
       "      <td>12.0</td>\n",
       "      <td>344.0</td>\n",
       "      <td>0.0</td>\n",
       "      <td>23.0</td>\n",
       "      <td>Class1</td>\n",
       "      <td>NaN</td>\n",
       "      <td>NaN</td>\n",
       "      <td>NaN</td>\n",
       "      <td>NaN</td>\n",
       "      <td>NaN</td>\n",
       "      <td>NaN</td>\n",
       "    </tr>\n",
       "    <tr>\n",
       "      <th>1</th>\n",
       "      <td>7.2</td>\n",
       "      <td>12.0</td>\n",
       "      <td>208.0</td>\n",
       "      <td>0.0</td>\n",
       "      <td>18.0</td>\n",
       "      <td>Class2</td>\n",
       "      <td>NaN</td>\n",
       "      <td>NaN</td>\n",
       "      <td>NaN</td>\n",
       "      <td>NaN</td>\n",
       "      <td>NaN</td>\n",
       "      <td>NaN</td>\n",
       "    </tr>\n",
       "    <tr>\n",
       "      <th>2</th>\n",
       "      <td>19.0</td>\n",
       "      <td>11.0</td>\n",
       "      <td>344.0</td>\n",
       "      <td>1.0</td>\n",
       "      <td>21.0</td>\n",
       "      <td>Class4</td>\n",
       "      <td>19.0</td>\n",
       "      <td>11.0</td>\n",
       "      <td>344.0</td>\n",
       "      <td>1.0</td>\n",
       "      <td>21.0</td>\n",
       "      <td>Class4</td>\n",
       "    </tr>\n",
       "    <tr>\n",
       "      <th>3</th>\n",
       "      <td>7.2</td>\n",
       "      <td>13.0</td>\n",
       "      <td>208.0</td>\n",
       "      <td>0.0</td>\n",
       "      <td>20.0</td>\n",
       "      <td>Class2</td>\n",
       "      <td>7.2</td>\n",
       "      <td>13.0</td>\n",
       "      <td>208.0</td>\n",
       "      <td>0.0</td>\n",
       "      <td>20.0</td>\n",
       "      <td>Class2</td>\n",
       "    </tr>\n",
       "    <tr>\n",
       "      <th>4</th>\n",
       "      <td>NaN</td>\n",
       "      <td>NaN</td>\n",
       "      <td>NaN</td>\n",
       "      <td>NaN</td>\n",
       "      <td>NaN</td>\n",
       "      <td>NaN</td>\n",
       "      <td>9.2</td>\n",
       "      <td>20.0</td>\n",
       "      <td>208.0</td>\n",
       "      <td>0.0</td>\n",
       "      <td>17.0</td>\n",
       "      <td>Class1</td>\n",
       "    </tr>\n",
       "    <tr>\n",
       "      <th>5</th>\n",
       "      <td>NaN</td>\n",
       "      <td>NaN</td>\n",
       "      <td>NaN</td>\n",
       "      <td>NaN</td>\n",
       "      <td>NaN</td>\n",
       "      <td>NaN</td>\n",
       "      <td>19.0</td>\n",
       "      <td>11.0</td>\n",
       "      <td>254.0</td>\n",
       "      <td>2.0</td>\n",
       "      <td>11.0</td>\n",
       "      <td>Class3</td>\n",
       "    </tr>\n",
       "  </tbody>\n",
       "</table>\n",
       "</div>"
      ],
      "text/plain": [
       "   Feature1  Weight  Height  Bla-bla  Size   Class  Feature1_2  Weight_2  \\\n",
       "0      10.0    12.0   344.0      0.0  23.0  Class1         NaN       NaN   \n",
       "1       7.2    12.0   208.0      0.0  18.0  Class2         NaN       NaN   \n",
       "2      19.0    11.0   344.0      1.0  21.0  Class4        19.0      11.0   \n",
       "3       7.2    13.0   208.0      0.0  20.0  Class2         7.2      13.0   \n",
       "4       NaN     NaN     NaN      NaN   NaN     NaN         9.2      20.0   \n",
       "5       NaN     NaN     NaN      NaN   NaN     NaN        19.0      11.0   \n",
       "\n",
       "   Height_2  Bla-bla_2  Size_2 Class_2  \n",
       "0       NaN        NaN     NaN     NaN  \n",
       "1       NaN        NaN     NaN     NaN  \n",
       "2     344.0        1.0    21.0  Class4  \n",
       "3     208.0        0.0    20.0  Class2  \n",
       "4     208.0        0.0    17.0  Class1  \n",
       "5     254.0        2.0    11.0  Class3  "
      ]
     },
     "execution_count": 14,
     "metadata": {},
     "output_type": "execute_result"
    }
   ],
   "source": [
    "df[0: 4].join(df_2[2: ], how='outer')"
   ]
  },
  {
   "cell_type": "markdown",
   "metadata": {},
   "source": [
    "### Numpy"
   ]
  },
  {
   "cell_type": "markdown",
   "metadata": {},
   "source": [
    "С помощью Pandas можно удобно считывать, предобрабрабатывать и визуализировать данные, но основной инструмент, который понадобится в будущем — это Numpy."
   ]
  },
  {
   "cell_type": "code",
   "execution_count": 31,
   "metadata": {
    "collapsed": true
   },
   "outputs": [],
   "source": [
    "import numpy as np"
   ]
  },
  {
   "cell_type": "markdown",
   "metadata": {},
   "source": [
    "Основные типы данных в numpy — это [numpy.array](http://docs.scipy.org/doc/numpy-1.10.0/reference/generated/numpy.array.html) и [numpy.matrix](http://docs.scipy.org/doc/numpy-1.10.1/reference/generated/numpy.matrix.html). "
   ]
  },
  {
   "cell_type": "markdown",
   "metadata": {},
   "source": [
    "Чтобы преобразовать данные датафрейма в numpy.array, необходимо позвать метод values:"
   ]
  },
  {
   "cell_type": "code",
   "execution_count": 32,
   "metadata": {},
   "outputs": [
    {
     "data": {
      "text/plain": [
       "array([[10.0, 12, 344, 0, 23.0, 'Class1'],\n",
       "       [7.2, 12, 208, 0, 18.0, 'Class2'],\n",
       "       [19.0, 11, 344, 1, 21.0, 'Class4'],\n",
       "       [7.2, 13, 208, 0, 20.0, 'Class2'],\n",
       "       [9.2, 20, 208, 0, 17.0, 'Class1'],\n",
       "       [19.0, 11, 254, 2, 11.0, 'Class3']], dtype=object)"
      ]
     },
     "execution_count": 32,
     "metadata": {},
     "output_type": "execute_result"
    }
   ],
   "source": [
    "data = df.values\n",
    "data"
   ]
  },
  {
   "cell_type": "markdown",
   "metadata": {},
   "source": [
    "Если сразу же хочется работать с вещественными числами, то можно позвать df.values.astype(np.float32), предварительно удалив/преобразовав данные, которые не приводятся к типу float32 (в данном случае):"
   ]
  },
  {
   "cell_type": "code",
   "execution_count": 33,
   "metadata": {},
   "outputs": [
    {
     "data": {
      "text/plain": [
       "array([[  10.        ,   12.        ,  344.        ,    0.        ,   23.        ],\n",
       "       [   7.19999981,   12.        ,  208.        ,    0.        ,   18.        ],\n",
       "       [  19.        ,   11.        ,  344.        ,    1.        ,   21.        ],\n",
       "       [   7.19999981,   13.        ,  208.        ,    0.        ,   20.        ],\n",
       "       [   9.19999981,   20.        ,  208.        ,    0.        ,   17.        ],\n",
       "       [  19.        ,   11.        ,  254.        ,    2.        ,   11.        ]], dtype=float32)"
      ]
     },
     "execution_count": 33,
     "metadata": {},
     "output_type": "execute_result"
    }
   ],
   "source": [
    "data = df.drop('Class', axis=1).values.astype(np.float32)\n",
    "data"
   ]
  },
  {
   "cell_type": "markdown",
   "metadata": {},
   "source": [
    "Чтобы просто создать np.array, необходимо первым параметром передать последовательность. При создании можно явно указать тип хранимых значений (параметр dtype)."
   ]
  },
  {
   "cell_type": "code",
   "execution_count": 34,
   "metadata": {},
   "outputs": [
    {
     "name": "stdout",
     "output_type": "stream",
     "text": [
      "[1 2 3 4 5 6]\n",
      "[ 1.  2.  3.  4.  5.  6.]\n"
     ]
    }
   ],
   "source": [
    "a = np.array([1,2,3,4,5,6]) \n",
    "b = np.array([1,2,3,4,5,6], dtype=float) \n",
    "\n",
    "print a\n",
    "print b"
   ]
  },
  {
   "cell_type": "markdown",
   "metadata": {},
   "source": [
    "___\n",
    "Чтобы быстро обратиться к документации из ipython-notebook'а, можно воспользоваться следующей командой:"
   ]
  },
  {
   "cell_type": "code",
   "execution_count": 23,
   "metadata": {
    "collapsed": true
   },
   "outputs": [],
   "source": [
    "?np.array"
   ]
  },
  {
   "cell_type": "markdown",
   "metadata": {},
   "source": [
    "которая покажет docstrings данной функции\n",
    "___"
   ]
  },
  {
   "cell_type": "markdown",
   "metadata": {},
   "source": [
    "Некоторые полезные функции для работы с массивами:\n",
    " - arange — аналог range из питона, которому можно передать нецелочисленный шаг\n",
    " - linspace — способ равномерно разбить отрезок на n-1 интервал\n",
    " - logspace — способ разбить отрезок по логарифмической шкале"
   ]
  },
  {
   "cell_type": "code",
   "execution_count": 35,
   "metadata": {},
   "outputs": [
    {
     "name": "stdout",
     "output_type": "stream",
     "text": [
      "[ 0.   0.5  1.   1.5  2.   2.5  3.   3.5  4.   4.5  5.   5.5  6.   6.5  7.\n",
      "  7.5  8.   8.5  9.   9.5]\n"
     ]
    }
   ],
   "source": [
    "print np.arange(0, 10, 0.5)"
   ]
  },
  {
   "cell_type": "code",
   "execution_count": 36,
   "metadata": {},
   "outputs": [
    {
     "name": "stdout",
     "output_type": "stream",
     "text": [
      "[  0.           0.83333333   1.66666667   2.5          3.33333333\n",
      "   4.16666667   5.           5.83333333   6.66666667   7.5          8.33333333\n",
      "   9.16666667  10.        ]\n"
     ]
    }
   ],
   "source": [
    "print np.linspace(0, 10, 13)"
   ]
  },
  {
   "cell_type": "code",
   "execution_count": 37,
   "metadata": {},
   "outputs": [
    {
     "name": "stdout",
     "output_type": "stream",
     "text": [
      "[   1.    2.    4.    8.   16.   32.   64.  128.  256.  512.]\n"
     ]
    }
   ],
   "source": [
    "print np.logspace(0, 9, 10, base=2)"
   ]
  },
  {
   "cell_type": "markdown",
   "metadata": {},
   "source": [
    "Функция reshape позволяет преобразовать размеры массива без изменения данных. Соответственно, поля shape и ndim содержат размеры массива и количество размерностей:"
   ]
  },
  {
   "cell_type": "code",
   "execution_count": 38,
   "metadata": {},
   "outputs": [
    {
     "name": "stdout",
     "output_type": "stream",
     "text": [
      "(2, 10) 2\n",
      "(2, 5, 2) 3\n"
     ]
    }
   ],
   "source": [
    "a = np.arange(0, 10, 0.5)\n",
    "b = np.reshape(a, (2, 10))\n",
    "c = np.reshape(a, (2, 5, 2))\n",
    "\n",
    "print b.shape, b.ndim\n",
    "print c.shape, c.ndim"
   ]
  },
  {
   "cell_type": "markdown",
   "metadata": {},
   "source": [
    "Также есть возможность обращаться к элементам numpy массива по спискам индексов"
   ]
  },
  {
   "cell_type": "code",
   "execution_count": 39,
   "metadata": {},
   "outputs": [
    {
     "name": "stdout",
     "output_type": "stream",
     "text": [
      "[[ 0.   0.5  1.   1.5  2.   2.5  3.   3.5  4.   4.5]\n",
      " [ 5.   5.5  6.   6.5  7.   7.5  8.   8.5  9.   9.5]]\n"
     ]
    },
    {
     "data": {
      "text/plain": [
       "array([ 0.,  7.])"
      ]
     },
     "execution_count": 39,
     "metadata": {},
     "output_type": "execute_result"
    }
   ],
   "source": [
    "print b\n",
    "\n",
    "b[[0, 1], [0, 4]]"
   ]
  },
  {
   "cell_type": "markdown",
   "metadata": {},
   "source": [
    "Чтобы развернуть массив в одномерный, есть функция ravel:"
   ]
  },
  {
   "cell_type": "code",
   "execution_count": 40,
   "metadata": {},
   "outputs": [
    {
     "name": "stdout",
     "output_type": "stream",
     "text": [
      "[[ 0.   0.5  1.   1.5  2.   2.5  3.   3.5  4.   4.5]\n",
      " [ 5.   5.5  6.   6.5  7.   7.5  8.   8.5  9.   9.5]]\n",
      "(2, 10)\n",
      "[ 0.   0.5  1.   1.5  2.   2.5  3.   3.5  4.   4.5  5.   5.5  6.   6.5  7.\n",
      "  7.5  8.   8.5  9.   9.5]\n",
      "(20,)\n"
     ]
    }
   ],
   "source": [
    "print b\n",
    "print b.shape\n",
    "d = np.ravel(b)\n",
    "print d\n",
    "print d.shape"
   ]
  },
  {
   "cell_type": "markdown",
   "metadata": {},
   "source": [
    "Для создания массивов специального вида (состоящих уз нулей, единиц, пустых) есть отдельные функции:\n",
    " - zeros\n",
    " - ones\n",
    " - empty"
   ]
  },
  {
   "cell_type": "code",
   "execution_count": 24,
   "metadata": {},
   "outputs": [
    {
     "name": "stdout",
     "output_type": "stream",
     "text": [
      "[[ 0.  0.]\n",
      " [ 0.  0.]]\n"
     ]
    }
   ],
   "source": [
    "print np.zeros((2, 2))"
   ]
  },
  {
   "cell_type": "code",
   "execution_count": 25,
   "metadata": {},
   "outputs": [
    {
     "name": "stdout",
     "output_type": "stream",
     "text": [
      "[[ 1.  1.]\n",
      " [ 1.  1.]]\n"
     ]
    }
   ],
   "source": [
    "print np.ones((2, 2))"
   ]
  },
  {
   "cell_type": "code",
   "execution_count": 26,
   "metadata": {},
   "outputs": [
    {
     "name": "stdout",
     "output_type": "stream",
     "text": [
      "[[ 1.  1.]\n",
      " [ 1.  1.]]\n"
     ]
    }
   ],
   "source": [
    "print np.empty((2, 2))"
   ]
  },
  {
   "cell_type": "markdown",
   "metadata": {},
   "source": [
    "Более интересная часть: как работать с массивами. \n",
    "\n",
    "Все арифметические операции над массивами производятся поэлементно:"
   ]
  },
  {
   "cell_type": "code",
   "execution_count": 27,
   "metadata": {
    "collapsed": true
   },
   "outputs": [],
   "source": [
    "A = np.arange(0, 9).reshape(3, 3)\n",
    "B = np.arange(1, 10).reshape(3, 3)"
   ]
  },
  {
   "cell_type": "code",
   "execution_count": 28,
   "metadata": {},
   "outputs": [
    {
     "data": {
      "text/plain": [
       "array([[0, 1, 2],\n",
       "       [3, 4, 5],\n",
       "       [6, 7, 8]])"
      ]
     },
     "execution_count": 28,
     "metadata": {},
     "output_type": "execute_result"
    }
   ],
   "source": [
    "A"
   ]
  },
  {
   "cell_type": "code",
   "execution_count": 29,
   "metadata": {},
   "outputs": [
    {
     "data": {
      "text/plain": [
       "array([[1, 2, 3],\n",
       "       [4, 5, 6],\n",
       "       [7, 8, 9]])"
      ]
     },
     "execution_count": 29,
     "metadata": {},
     "output_type": "execute_result"
    }
   ],
   "source": [
    "B"
   ]
  },
  {
   "cell_type": "code",
   "execution_count": 30,
   "metadata": {},
   "outputs": [
    {
     "data": {
      "text/plain": [
       "array([[ 1,  3,  5],\n",
       "       [ 7,  9, 11],\n",
       "       [13, 15, 17]])"
      ]
     },
     "execution_count": 30,
     "metadata": {},
     "output_type": "execute_result"
    }
   ],
   "source": [
    "A + B"
   ]
  },
  {
   "cell_type": "code",
   "execution_count": 31,
   "metadata": {},
   "outputs": [
    {
     "data": {
      "text/plain": [
       "array([[-1,  0,  1],\n",
       "       [ 2,  3,  4],\n",
       "       [ 5,  6,  7]])"
      ]
     },
     "execution_count": 31,
     "metadata": {},
     "output_type": "execute_result"
    }
   ],
   "source": [
    "A - 1"
   ]
  },
  {
   "cell_type": "markdown",
   "metadata": {},
   "source": [
    "Обратите внимание, что умножение тоже поэлементное:"
   ]
  },
  {
   "cell_type": "code",
   "execution_count": 32,
   "metadata": {},
   "outputs": [
    {
     "data": {
      "text/plain": [
       "array([[ 0,  2,  6],\n",
       "       [12, 20, 30],\n",
       "       [42, 56, 72]])"
      ]
     },
     "execution_count": 32,
     "metadata": {},
     "output_type": "execute_result"
    }
   ],
   "source": [
    "A * B"
   ]
  },
  {
   "cell_type": "markdown",
   "metadata": {},
   "source": [
    "Если хотим умножить их как матрицы, можно писать так:"
   ]
  },
  {
   "cell_type": "code",
   "execution_count": 33,
   "metadata": {},
   "outputs": [
    {
     "data": {
      "text/plain": [
       "array([[ 18,  21,  24],\n",
       "       [ 54,  66,  78],\n",
       "       [ 90, 111, 132]])"
      ]
     },
     "execution_count": 33,
     "metadata": {},
     "output_type": "execute_result"
    }
   ],
   "source": [
    "np.dot(A, B)"
   ]
  },
  {
   "cell_type": "markdown",
   "metadata": {},
   "source": [
    "Обычно numpy функции принимают на вход numpy.array, поэтому все привычные операции можно выполнять над массивами:"
   ]
  },
  {
   "cell_type": "code",
   "execution_count": 34,
   "metadata": {},
   "outputs": [
    {
     "data": {
      "text/plain": [
       "(0, 8, 36)"
      ]
     },
     "execution_count": 34,
     "metadata": {},
     "output_type": "execute_result"
    }
   ],
   "source": [
    "np.min(A), np.max(A), np.sum(A)"
   ]
  },
  {
   "cell_type": "code",
   "execution_count": 35,
   "metadata": {},
   "outputs": [
    {
     "data": {
      "text/plain": [
       "array([[ 0.        ,  1.        ,  1.41421356],\n",
       "       [ 1.73205081,  2.        ,  2.23606798],\n",
       "       [ 2.44948974,  2.64575131,  2.82842712]])"
      ]
     },
     "execution_count": 35,
     "metadata": {},
     "output_type": "execute_result"
    }
   ],
   "source": [
    "np.sqrt(A)"
   ]
  },
  {
   "cell_type": "markdown",
   "metadata": {},
   "source": [
    "Эти же операции можно применять для заданной размерности массива (параметр axis):"
   ]
  },
  {
   "cell_type": "code",
   "execution_count": 36,
   "metadata": {},
   "outputs": [
    {
     "data": {
      "text/plain": [
       "(array([0, 1, 2]), array([0, 3, 6]))"
      ]
     },
     "execution_count": 36,
     "metadata": {},
     "output_type": "execute_result"
    }
   ],
   "source": [
    "np.min(A, axis=0), np.min(A, axis=1)"
   ]
  },
  {
   "cell_type": "markdown",
   "metadata": {},
   "source": [
    "Индексация.\n",
    "\n",
    "В numpy работает привычная индексация питона:"
   ]
  },
  {
   "cell_type": "code",
   "execution_count": 37,
   "metadata": {},
   "outputs": [
    {
     "data": {
      "text/plain": [
       "array([2, 3, 4])"
      ]
     },
     "execution_count": 37,
     "metadata": {},
     "output_type": "execute_result"
    }
   ],
   "source": [
    "a = np.arange(10)\n",
    "a[2:5]"
   ]
  },
  {
   "cell_type": "code",
   "execution_count": 38,
   "metadata": {},
   "outputs": [
    {
     "name": "stdout",
     "output_type": "stream",
     "text": [
      "[[0 1 2 3 4]\n",
      " [5 6 7 8 9]]\n"
     ]
    },
    {
     "data": {
      "text/plain": [
       "array([[2, 3],\n",
       "       [7, 8]])"
      ]
     },
     "execution_count": 38,
     "metadata": {},
     "output_type": "execute_result"
    }
   ],
   "source": [
    "b = np.reshape(a, (2, 5))\n",
    "print b\n",
    "b[:, 2:4]"
   ]
  },
  {
   "cell_type": "markdown",
   "metadata": {},
   "source": [
    "Но появляется также и логическая индексация:"
   ]
  },
  {
   "cell_type": "code",
   "execution_count": 39,
   "metadata": {},
   "outputs": [
    {
     "data": {
      "text/plain": [
       "array([0, 1, 2, 3, 4, 5, 6, 7, 8, 9])"
      ]
     },
     "execution_count": 39,
     "metadata": {},
     "output_type": "execute_result"
    }
   ],
   "source": [
    "a = np.arange(10)\n",
    "a"
   ]
  },
  {
   "cell_type": "code",
   "execution_count": 40,
   "metadata": {},
   "outputs": [
    {
     "data": {
      "text/plain": [
       "array([0, 3, 4, 5, 8])"
      ]
     },
     "execution_count": 40,
     "metadata": {},
     "output_type": "execute_result"
    }
   ],
   "source": [
    "good = np.array([True, False, False, True, True, True, False, False, True, False])\n",
    "a[good]"
   ]
  },
  {
   "cell_type": "markdown",
   "metadata": {},
   "source": [
    "Почему это может понадобиться: как описано выше, к numpy.array можно применять операции, которые будут выполнены поэлементно, в том числе и логические:"
   ]
  },
  {
   "cell_type": "code",
   "execution_count": 41,
   "metadata": {},
   "outputs": [
    {
     "data": {
      "text/plain": [
       "array([ True, False,  True, False,  True, False,  True, False,  True, False], dtype=bool)"
      ]
     },
     "execution_count": 41,
     "metadata": {},
     "output_type": "execute_result"
    }
   ],
   "source": [
    "a % 2 == 0"
   ]
  },
  {
   "cell_type": "markdown",
   "metadata": {},
   "source": [
    "Поэтому чтобы найти все четные элементы данного массива, можно просто выполнить строчку:"
   ]
  },
  {
   "cell_type": "code",
   "execution_count": 42,
   "metadata": {},
   "outputs": [
    {
     "data": {
      "text/plain": [
       "array([0, 2, 4, 6, 8])"
      ]
     },
     "execution_count": 42,
     "metadata": {},
     "output_type": "execute_result"
    }
   ],
   "source": [
    "a[a % 2 == 0]"
   ]
  },
  {
   "cell_type": "markdown",
   "metadata": {},
   "source": [
    "Чтобы написать более сложные логические условия, можно воспользоваться функциями numpy:"
   ]
  },
  {
   "cell_type": "code",
   "execution_count": 43,
   "metadata": {},
   "outputs": [
    {
     "data": {
      "text/plain": [
       "array([6, 8])"
      ]
     },
     "execution_count": 43,
     "metadata": {},
     "output_type": "execute_result"
    }
   ],
   "source": [
    "a[np.logical_and(a > 4, a % 2 == 0)]"
   ]
  },
  {
   "cell_type": "markdown",
   "metadata": {},
   "source": [
    "Для некоторых случаев есть уже готовые функции:"
   ]
  },
  {
   "cell_type": "code",
   "execution_count": 44,
   "metadata": {},
   "outputs": [
    {
     "data": {
      "text/plain": [
       "array([1, 2, 3, 4, 5, 6, 7, 8, 9])"
      ]
     },
     "execution_count": 44,
     "metadata": {},
     "output_type": "execute_result"
    }
   ],
   "source": [
    "a[a.nonzero()]"
   ]
  },
  {
   "cell_type": "markdown",
   "metadata": {},
   "source": [
    "Одно из полезных знаний — конкатенация многомерных массивов:"
   ]
  },
  {
   "cell_type": "code",
   "execution_count": 45,
   "metadata": {},
   "outputs": [
    {
     "data": {
      "text/plain": [
       "array([[0, 1, 2, 3, 4],\n",
       "       [5, 6, 7, 8, 9]])"
      ]
     },
     "execution_count": 45,
     "metadata": {},
     "output_type": "execute_result"
    }
   ],
   "source": [
    "a = np.arange(0, 10).reshape((2, 5))\n",
    "a"
   ]
  },
  {
   "cell_type": "code",
   "execution_count": 46,
   "metadata": {},
   "outputs": [
    {
     "data": {
      "text/plain": [
       "array([[20, 21],\n",
       "       [22, 23],\n",
       "       [24, 25],\n",
       "       [26, 27],\n",
       "       [28, 29]])"
      ]
     },
     "execution_count": 46,
     "metadata": {},
     "output_type": "execute_result"
    }
   ],
   "source": [
    "b = np.arange(20, 30).reshape((5, 2))\n",
    "b"
   ]
  },
  {
   "cell_type": "markdown",
   "metadata": {},
   "source": [
    "Существуют два типа конкатенации: горизонтальная"
   ]
  },
  {
   "cell_type": "code",
   "execution_count": 47,
   "metadata": {},
   "outputs": [
    {
     "name": "stdout",
     "output_type": "stream",
     "text": [
      "[[ 0  1  2  3  4 20 22 24 26 28]\n",
      " [ 5  6  7  8  9 21 23 25 27 29]]\n",
      "\n",
      "[[ 0  1  2  3  4 20 22 24 26 28]\n",
      " [ 5  6  7  8  9 21 23 25 27 29]]\n"
     ]
    }
   ],
   "source": [
    "print np.concatenate((a, b.T), axis=1)\n",
    "# or\n",
    "print\n",
    "#\n",
    "print np.hstack((a, b.T))"
   ]
  },
  {
   "cell_type": "markdown",
   "metadata": {},
   "source": [
    "и вертикальная"
   ]
  },
  {
   "cell_type": "code",
   "execution_count": 48,
   "metadata": {},
   "outputs": [
    {
     "name": "stdout",
     "output_type": "stream",
     "text": [
      "[[ 0  5]\n",
      " [ 1  6]\n",
      " [ 2  7]\n",
      " [ 3  8]\n",
      " [ 4  9]\n",
      " [20 21]\n",
      " [22 23]\n",
      " [24 25]\n",
      " [26 27]\n",
      " [28 29]]\n",
      "\n",
      "[[ 0  5]\n",
      " [ 1  6]\n",
      " [ 2  7]\n",
      " [ 3  8]\n",
      " [ 4  9]\n",
      " [20 21]\n",
      " [22 23]\n",
      " [24 25]\n",
      " [26 27]\n",
      " [28 29]]\n"
     ]
    }
   ],
   "source": [
    "print np.concatenate((a.T, b), axis=0)\n",
    "# or\n",
    "print\n",
    "#\n",
    "print np.vstack((a.T, b))"
   ]
  },
  {
   "cell_type": "markdown",
   "metadata": {},
   "source": [
    "В чем различие? [stackoverflow](http://stackoverflow.com/questions/33356442/when-should-i-use-hstack-vstack-vs-append-vs-concatenate-vs-column-stack)!"
   ]
  },
  {
   "cell_type": "markdown",
   "metadata": {},
   "source": [
    "Как сказано выше, в numpy есть также тип np.matrix. Основные отличия от np.array:\n",
    " - matrix — строго 2-мерные;\n",
    " - матричное умножение осуществляется через * (в отличие от dot для array)\n",
    " \n",
    "Сравните:"
   ]
  },
  {
   "cell_type": "code",
   "execution_count": 49,
   "metadata": {
    "collapsed": true
   },
   "outputs": [],
   "source": [
    "a = np.arange(0, 9).reshape((3, 3))\n",
    "b = np.arange(10, 19).reshape((3, 3))"
   ]
  },
  {
   "cell_type": "code",
   "execution_count": 50,
   "metadata": {},
   "outputs": [
    {
     "data": {
      "text/plain": [
       "array([[  0,  11,  24],\n",
       "       [ 39,  56,  75],\n",
       "       [ 96, 119, 144]])"
      ]
     },
     "execution_count": 50,
     "metadata": {},
     "output_type": "execute_result"
    }
   ],
   "source": [
    "a * b"
   ]
  },
  {
   "cell_type": "code",
   "execution_count": 51,
   "metadata": {},
   "outputs": [
    {
     "data": {
      "text/plain": [
       "matrix([[ 45,  48,  51],\n",
       "        [162, 174, 186],\n",
       "        [279, 300, 321]])"
      ]
     },
     "execution_count": 51,
     "metadata": {},
     "output_type": "execute_result"
    }
   ],
   "source": [
    "A = np.matrix(a)\n",
    "B = np.matrix(b)\n",
    "\n",
    "A * B"
   ]
  },
  {
   "cell_type": "markdown",
   "metadata": {},
   "source": [
    "Зачем вообще нужен numpy? Потому что это быстро!"
   ]
  },
  {
   "cell_type": "code",
   "execution_count": 52,
   "metadata": {
    "collapsed": true
   },
   "outputs": [],
   "source": [
    "N = 1000000\n",
    "A_quick_arr = np.random.normal(size = (N,))\n",
    "B_quick_arr = np.random.normal(size = (N,))\n",
    "\n",
    "A_slow_list = list(A_quick_arr)\n",
    "B_slow_list = list(B_quick_arr)"
   ]
  },
  {
   "cell_type": "code",
   "execution_count": 53,
   "metadata": {},
   "outputs": [
    {
     "name": "stdout",
     "output_type": "stream",
     "text": [
      "1 loops, best of 3: 278 ms per loop\n"
     ]
    }
   ],
   "source": [
    "%timeit sum([A_slow_list[i] * B_slow_list[i] for i in range(N)])"
   ]
  },
  {
   "cell_type": "code",
   "execution_count": 54,
   "metadata": {},
   "outputs": [
    {
     "name": "stdout",
     "output_type": "stream",
     "text": [
      "100 loops, best of 3: 4.15 ms per loop\n"
     ]
    }
   ],
   "source": [
    "%timeit np.sum(A_quick_arr * B_quick_arr)"
   ]
  },
  {
   "cell_type": "markdown",
   "metadata": {},
   "source": [
    "Есть много удобных команд (ipython magic functions), начинающихся с % или с %% для ipython-а. Подробнее про них почитать можно [здесь](https://ipython.org/ipython-doc/3/interactive/magics.html)"
   ]
  },
  {
   "cell_type": "markdown",
   "metadata": {},
   "source": [
    "###  Немного про Matplotlib"
   ]
  },
  {
   "cell_type": "code",
   "execution_count": 43,
   "metadata": {
    "collapsed": true
   },
   "outputs": [],
   "source": [
    "import matplotlib.pylab as plt"
   ]
  },
  {
   "cell_type": "code",
   "execution_count": 44,
   "metadata": {},
   "outputs": [
    {
     "data": {
      "text/plain": [
       "array([-10.  ,  -9.99,  -9.98, ...,   9.98,   9.99,  10.  ])"
      ]
     },
     "execution_count": 44,
     "metadata": {},
     "output_type": "execute_result"
    }
   ],
   "source": [
    "x_arr = np.linspace(-10, 10, 2001)\n",
    "x_arr"
   ]
  },
  {
   "cell_type": "code",
   "execution_count": 45,
   "metadata": {},
   "outputs": [
    {
     "data": {
      "text/plain": [
       "array([ 0.54402111,  0.53560333,  0.527132  , ..., -0.527132  ,\n",
       "       -0.53560333, -0.54402111])"
      ]
     },
     "execution_count": 45,
     "metadata": {},
     "output_type": "execute_result"
    }
   ],
   "source": [
    "sinx_arr = np.sin(x_arr)\n",
    "sinx_arr"
   ]
  },
  {
   "cell_type": "markdown",
   "metadata": {},
   "source": [
    "Построим график синуса"
   ]
  },
  {
   "cell_type": "code",
   "execution_count": 46,
   "metadata": {},
   "outputs": [
    {
     "data": {
      "text/plain": [
       "<matplotlib.text.Text at 0x10fd19a10>"
      ]
     },
     "execution_count": 46,
     "metadata": {},
     "output_type": "execute_result"
    },
    {
     "data": {
      "image/png": "[encoded data removed]",
      "text/plain": [
       "<matplotlib.figure.Figure at 0x10fce9a90>"
      ]
     },
     "metadata": {},
     "output_type": "display_data"
    }
   ],
   "source": [
    "plt.plot(x_arr, sinx_arr)\n",
    "plt.title('sin(x)')\n",
    "plt.xlabel('x')\n",
    "plt.ylabel('y')"
   ]
  },
  {
   "cell_type": "markdown",
   "metadata": {},
   "source": [
    "Добавим график косинуса"
   ]
  },
  {
   "cell_type": "code",
   "execution_count": 47,
   "metadata": {},
   "outputs": [
    {
     "data": {
      "text/plain": [
       "array([-0.83907153, -0.8444697 , -0.84978342, ..., -0.84978342,\n",
       "       -0.8444697 , -0.83907153])"
      ]
     },
     "execution_count": 47,
     "metadata": {},
     "output_type": "execute_result"
    }
   ],
   "source": [
    "cosx_arr = np.cos(x_arr)\n",
    "cosx_arr"
   ]
  },
  {
   "cell_type": "markdown",
   "metadata": {},
   "source": [
    "Чтобы различать графики, с помощью функции plt.legend добавим названия графиков."
   ]
  },
  {
   "cell_type": "code",
   "execution_count": 53,
   "metadata": {},
   "outputs": [
    {
     "data": {
      "text/plain": [
       "<matplotlib.legend.Legend at 0x110565b10>"
      ]
     },
     "execution_count": 53,
     "metadata": {},
     "output_type": "execute_result"
    },
    {
     "data": {
      "image/png": "[encoded data removed]",
      "text/plain": [
       "<matplotlib.figure.Figure at 0x11012add0>"
      ]
     },
     "metadata": {},
     "output_type": "display_data"
    }
   ],
   "source": [
    "plt.plot(x_arr, sinx_arr)\n",
    "plt.plot(x_arr, cosx_arr)\n",
    "\n",
    "plt.title('sin(x) and cos(x)')\n",
    "plt.xlabel('x')\n",
    "plt.ylabel('y')\n",
    "plt.legend(['sin(x)', 'cos(x)'], loc='upper right', framealpha=0.5)"
   ]
  },
  {
   "cell_type": "markdown",
   "metadata": {},
   "source": [
    "Как можно было заметить, у функции plt.legend есть параметр loc, который отвечает за расположение легенды.\n",
    "\n",
    "Этот параметр может принимать ограниченное количество значений, помнить которые не нужно: но важно уметь быстро находить их в документации.\n",
    "\n",
    "Вернёмся к построению косинусов и синусов.\n",
    "\n",
    "Графики, которые мы получили, не очень похожи на привычные нам. Дело в том, что оси координат имеют разный масштаб.\n",
    "\n",
    "Во-первых, исправим это с помощью вызова функции plt.axis('equal').\n",
    "\n",
    "Во-вторых, изменим размер графика."
   ]
  },
  {
   "cell_type": "code",
   "execution_count": 61,
   "metadata": {},
   "outputs": [
    {
     "data": {
      "text/plain": [
       "<matplotlib.legend.Legend at 0x10ea76890>"
      ]
     },
     "execution_count": 61,
     "metadata": {},
     "output_type": "execute_result"
    },
    {
     "data": {
      "image/png": "[encoded data removed]",
      "text/plain": [
       "<matplotlib.figure.Figure at 0x1100f83d0>"
      ]
     },
     "metadata": {},
     "output_type": "display_data"
    }
   ],
   "source": [
    "plt.figure(figsize=(15, 4))\n",
    "\n",
    "plt.plot(x_arr, sinx_arr)\n",
    "plt.plot(x_arr, cosx_arr)\n",
    "\n",
    "plt.title('sin(x) and cos(x)')\n",
    "plt.xlabel('x')\n",
    "plt.ylabel('y')\n",
    "\n",
    "plt.axis('equal')\n",
    "plt.legend(['sin(x)', 'cos(x)'])"
   ]
  },
  {
   "cell_type": "markdown",
   "metadata": {},
   "source": [
    "Если нам нужно изменить шкалу осей, можно использовать функции xticks(), yticks()"
   ]
  },
  {
   "cell_type": "code",
   "execution_count": 62,
   "metadata": {},
   "outputs": [
    {
     "data": {
      "text/plain": [
       "<matplotlib.legend.Legend at 0x10ec50790>"
      ]
     },
     "execution_count": 62,
     "metadata": {},
     "output_type": "execute_result"
    },
    {
     "data": {
      "image/png": "[encoded data removed]",
      "text/plain": [
       "<matplotlib.figure.Figure at 0x10ebf7c10>"
      ]
     },
     "metadata": {},
     "output_type": "display_data"
    }
   ],
   "source": [
    "plt.figure(figsize=(15, 4))\n",
    "\n",
    "plt.plot(x_arr, sinx_arr)\n",
    "plt.plot(x_arr, cosx_arr)\n",
    "\n",
    "plt.xticks(arange(-10, 11, 1))\n",
    "\n",
    "plt.title('sin(x) and cos(x)')\n",
    "plt.xlabel('x')\n",
    "plt.ylabel('y')\n",
    "\n",
    "plt.axis('equal')\n",
    "plt.legend(['sin(x)', 'cos(x)'])"
   ]
  },
  {
   "cell_type": "markdown",
   "metadata": {},
   "source": [
    "Рассмотрим другой пример"
   ]
  },
  {
   "cell_type": "code",
   "execution_count": 63,
   "metadata": {
    "collapsed": true
   },
   "outputs": [],
   "source": [
    "x = linspace(1, 10, 20)\n",
    "y = x ** 3"
   ]
  },
  {
   "cell_type": "markdown",
   "metadata": {},
   "source": [
    "Как мы выяснили, matplotlib позволяет строить как непрерывные линии:"
   ]
  },
  {
   "cell_type": "code",
   "execution_count": 64,
   "metadata": {},
   "outputs": [
    {
     "data": {
      "text/plain": [
       "[<matplotlib.lines.Line2D at 0x105b4b190>]"
      ]
     },
     "execution_count": 64,
     "metadata": {},
     "output_type": "execute_result"
    },
    {
     "data": {
      "image/png": "[encoded data removed]",
      "text/plain": [
       "<matplotlib.figure.Figure at 0x10e26c590>"
      ]
     },
     "metadata": {},
     "output_type": "display_data"
    }
   ],
   "source": [
    "plt.plot(x, y, c='red')"
   ]
  },
  {
   "cell_type": "markdown",
   "metadata": {},
   "source": [
    "так и отдельные точки:"
   ]
  },
  {
   "cell_type": "code",
   "execution_count": 65,
   "metadata": {},
   "outputs": [
    {
     "data": {
      "text/plain": [
       "<matplotlib.collections.PathCollection at 0x10f0d96d0>"
      ]
     },
     "execution_count": 65,
     "metadata": {},
     "output_type": "execute_result"
    },
    {
     "data": {
      "image/png": "[encoded data removed]",
      "text/plain": [
       "<matplotlib.figure.Figure at 0x105b57950>"
      ]
     },
     "metadata": {},
     "output_type": "display_data"
    }
   ],
   "source": [
    "plt.scatter(x, y, c='blue')"
   ]
  },
  {
   "cell_type": "markdown",
   "metadata": {},
   "source": [
    "и даже всё вместе:"
   ]
  },
  {
   "cell_type": "code",
   "execution_count": 66,
   "metadata": {},
   "outputs": [
    {
     "data": {
      "text/plain": [
       "[<matplotlib.lines.Line2D at 0x10f14cb90>]"
      ]
     },
     "execution_count": 66,
     "metadata": {},
     "output_type": "execute_result"
    },
    {
     "data": {
      "image/png": "[encoded data removed]",
      "text/plain": [
       "<matplotlib.figure.Figure at 0x105b4bc10>"
      ]
     },
     "metadata": {},
     "output_type": "display_data"
    }
   ],
   "source": [
    "plt.plot(x, y, 'bo-')"
   ]
  }
 ],
 "metadata": {
  "kernelspec": {
   "display_name": "Python 3",
   "language": "python",
   "name": "python3"
  },
  "language_info": {
   "codemirror_mode": {
    "name": "ipython",
    "version": 3
   },
   "file_extension": ".py",
   "mimetype": "text/x-python",
   "name": "python",
   "nbconvert_exporter": "python",
   "pygments_lexer": "ipython3",
   "version": "3.5.2"
  }
 },
 "nbformat": 4,
 "nbformat_minor": 1
}
