{
 "cells": [
  {
   "cell_type": "markdown",
   "metadata": {},
   "source": [
    "## Домашняя работа 3"
   ]
  },
  {
   "cell_type": "markdown",
   "metadata": {},
   "source": [
    "### VK API"
   ]
  },
  {
   "cell_type": "markdown",
   "metadata": {},
   "source": [
    "Установите библиотеку [vk](https://github.com/dimka665/vk) для работы с VK API в Python:\n",
    "\n",
    "** pip install vk **\n",
    "\n",
    "Импортируйте данную библиотеку: "
   ]
  },
  {
   "cell_type": "code",
   "execution_count": 1,
   "metadata": {
    "collapsed": true
   },
   "outputs": [],
   "source": [
    "import vk"
   ]
  },
  {
   "cell_type": "markdown",
   "metadata": {},
   "source": [
    "После установки модуля, необходимо [создать приложение на сайте VK](https://vk.com/dev/native_create)\n",
    "\n",
    "После регистрации приложения, понадобится только его **ID**. Его можно найти во вкладке **Настройки**.\n",
    "\n",
    "Теперь создайте файл credentials.py (подобно тому, которой мы создавали на семинаре 8), который должен выглядеть следующим образом:"
   ]
  },
  {
   "cell_type": "code",
   "execution_count": null,
   "metadata": {
    "collapsed": true
   },
   "outputs": [],
   "source": [
    "id_app = '... ID приложения ...'\n",
    "login = '... Ваш логин в вк ...'\n",
    "password = '... Ваш пароль в вк ...'"
   ]
  },
  {
   "cell_type": "markdown",
   "metadata": {},
   "source": [
    "Авторизуйтесь:"
   ]
  },
  {
   "cell_type": "code",
   "execution_count": 6,
   "metadata": {
    "collapsed": true
   },
   "outputs": [],
   "source": [
    "from credentials import *\n",
    "\n",
    "session = vk.AuthSession(id_app, login, password)"
   ]
  },
  {
   "cell_type": "markdown",
   "metadata": {},
   "source": [
    "При такой авторизации нужно указывать не только логин, пароль и ID приложения, но и то, к чему мы хотим получить доступ. Для того чтобы данный код сработал корректно, при авторизации нужно указать дополнительно аргумент с названием scope и перечислить через запятую те методы, доступ к которым мы хотим получить. Например:"
   ]
  },
  {
   "cell_type": "code",
   "execution_count": 8,
   "metadata": {},
   "outputs": [
    {
     "name": "stdout",
     "output_type": "stream",
     "text": [
      "2018-01-31 01:39:44,096 vk    mixins:127 INFO: Getting permissions\n"
     ]
    }
   ],
   "source": [
    "session = vk.AuthSession(id_app, login, password, scope='wall')\n",
    "vk_api = vk.API(session)"
   ]
  },
  {
   "cell_type": "markdown",
   "metadata": {},
   "source": [
    "В данном примере я запрашиваю доступ к стене. Названия методов, к которым возможно получить доступ можно посмотреть на [этой странице документации](https://vk.com/dev/objects)."
   ]
  },
  {
   "cell_type": "markdown",
   "metadata": {},
   "source": [
    "**Задача 1. Формирование корпуса текстов** (10 баллов) \n",
    "\n",
    "Найдите две или более группы, которые публикуют достаточно содержательные посты (например, новости и т.п.). Тематика групп должна быть различной. \n",
    "\n",
    "С помощью [wall.get](https://vk.com/dev/wall.get) скачайте посты данных групп и сформируйте корпуса текстов, используя возможности [pandas](https://pythonspot.com/category/pandas/)."
   ]
  },
  {
   "cell_type": "code",
   "execution_count": null,
   "metadata": {
    "collapsed": true
   },
   "outputs": [],
   "source": []
  },
  {
   "cell_type": "markdown",
   "metadata": {},
   "source": [
    "**Задача 2. Предобработка ** (15 баллов)\n",
    "\n",
    "Предобработайте корпуса текстов: \n",
    "* Очистите тексты от мусора, используя [регулярные выражения](https://docs.python.org/2/library/re.html)\n",
    "* [Лемматизируйте текст](https://github.com/arinaaageeva/Lemmatization)\n",
    "* Удалите стоп-слова\n",
    "\n",
    "Список стоп-слов можно получить с помощью модуля [stop-words](https://pypi.python.org/pypi/stop-words)"
   ]
  },
  {
   "cell_type": "code",
   "execution_count": null,
   "metadata": {
    "collapsed": true
   },
   "outputs": [],
   "source": []
  },
  {
   "cell_type": "markdown",
   "metadata": {},
   "source": [
    "** Задача 3. Выделение признаков** (5 баллов)\n",
    "\n",
    "Воспользуйтесь [TfidfVectorizer](http://scikit-learn.org/stable/modules/generated/sklearn.feature_extraction.text.TfidfVectorizer.html) для векторизации текстов. \n",
    "\n",
    "Сначала нужно создать и обучить vectorizer:\n",
    "\n",
    "```\n",
    "\n",
    "from sklearn.feature_extraction.text import TfidfVectorizer\n",
    "\n",
    "vectorizer = TfidfVectorizer(stop_words=<сюда передайте список стоп слов>).fit(<сюда передайте весь корпус текстов>)\n",
    "```\n",
    "\n",
    "Что бы преообразовать тексты в векторное представление используйте метод transform:\n",
    "```\n",
    "tfidf_vectors = vectorizer.transform(<список текстов>)\n",
    "```\n",
    "Получение списка имён признаков:\n",
    "```\n",
    "features_names = vectorizer.get_features_name()\n",
    "```\n",
    "Для каждой группы получите список топ-токенов и выведите ."
   ]
  },
  {
   "cell_type": "code",
   "execution_count": null,
   "metadata": {
    "collapsed": true
   },
   "outputs": [],
   "source": []
  },
  {
   "cell_type": "markdown",
   "metadata": {},
   "source": [
    "**Задача 4. Визуализация** (5 баллов)\n",
    "\n",
    "Визуализируйте токены для каждого сообщества с помощью [WORDCLOUD](https://python-graph-gallery.com/wordcloud/)"
   ]
  },
  {
   "cell_type": "code",
   "execution_count": null,
   "metadata": {
    "collapsed": true
   },
   "outputs": [],
   "source": []
  },
  {
   "cell_type": "markdown",
   "metadata": {},
   "source": [
    "**Задача 5. Поиск коллокаций** (15 баллов)\n",
    "\n",
    "Для каждого сообщества найдите статистические значиммые коллокации с помощью PMI"
   ]
  },
  {
   "cell_type": "code",
   "execution_count": null,
   "metadata": {
    "collapsed": true
   },
   "outputs": [],
   "source": []
  }
 ],
 "metadata": {
  "kernelspec": {
   "display_name": "Python 3",
   "language": "python",
   "name": "python3"
  },
  "language_info": {
   "codemirror_mode": {
    "name": "ipython",
    "version": 3
   },
   "file_extension": ".py",
   "mimetype": "text/x-python",
   "name": "python",
   "nbconvert_exporter": "python",
   "pygments_lexer": "ipython3",
   "version": "3.6.3"
  }
 },
 "nbformat": 4,
 "nbformat_minor": 2
}
