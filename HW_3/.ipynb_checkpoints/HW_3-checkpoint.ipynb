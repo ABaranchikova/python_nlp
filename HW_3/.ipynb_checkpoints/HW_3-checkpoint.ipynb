{
 "cells": [
  {
   "cell_type": "markdown",
   "metadata": {},
   "source": [
    "## Домашняя работа 3"
   ]
  },
  {
   "cell_type": "markdown",
   "metadata": {},
   "source": [
    "### VK API"
   ]
  },
  {
   "cell_type": "markdown",
   "metadata": {},
   "source": [
    "Установите библеотеку [vk](https://github.com/dimka665/vk) для работы с VK API в Python:\n",
    "\n",
    "** pip install vk **\n",
    "\n",
    "Импортируйте данную библеотеку: "
   ]
  },
  {
   "cell_type": "code",
   "execution_count": 1,
   "metadata": {
    "collapsed": true
   },
   "outputs": [],
   "source": [
    "import vk"
   ]
  },
  {
   "cell_type": "markdown",
   "metadata": {},
   "source": [
    "После установки модуля, необходимо [создать приложение на сайте VK](https://vk.com/dev/native_create)\n",
    "\n",
    "После регистрации приложения, понадобится только его **ID**. Его можно найти во вкладке **Настройки**.\n",
    "\n",
    "Теперь создайте файл credentials.py (подобно тому, которой мы создавали на семинаре 8), который должен выглядеть следующим образом:"
   ]
  },
  {
   "cell_type": "code",
   "execution_count": null,
   "metadata": {
    "collapsed": true
   },
   "outputs": [],
   "source": [
    "id_app = '... ID приложения ...'\n",
    "login = '... Ваш логин в вк ...'\n",
    "password = '... Ваш пароль в вк ...'"
   ]
  },
  {
   "cell_type": "markdown",
   "metadata": {},
   "source": [
    "Авторизуйтись:"
   ]
  },
  {
   "cell_type": "code",
   "execution_count": 6,
   "metadata": {},
   "outputs": [],
   "source": [
    "from credentials import *\n",
    "\n",
    "session = vk.AuthSession(id_app, login, password)"
   ]
  },
  {
   "cell_type": "markdown",
   "metadata": {},
   "source": [
    "При такой авторизации нужно указывать не только логин, пароль и ID приложения, но то, к чему мы хотим получить доступ.\n",
    "\n",
    "Например, у нас сейчас не указан доступ к пользователя, поэтому при попытке добавить запись на стену мы получим ошибку.\n",
    "\n",
    "Для того чтобы данный код сработал корректно, при авторизации нужно указать дополнительно аргумент с названием scope и перечислить через запятую те методы, доступ к которым мы хотим получить. Например:"
   ]
  },
  {
   "cell_type": "code",
   "execution_count": 8,
   "metadata": {},
   "outputs": [
    {
     "name": "stdout",
     "output_type": "stream",
     "text": [
      "2018-01-31 01:39:44,096 vk    mixins:127 INFO: Getting permissions\n"
     ]
    }
   ],
   "source": [
    "session = vk.AuthSession(id_app, login, password,\n",
    "                         scope='wall')\n",
    "vk_api = vk.API(session)"
   ]
  },
  {
   "cell_type": "markdown",
   "metadata": {},
   "source": [
    "В данном примере я запрашиваю доступ к стене. Названия методов, к которым возможно получить доступ можно посмотреть на [этой странице документации](https://vk.com/dev/objects)."
   ]
  },
  {
   "cell_type": "markdown",
   "metadata": {},
   "source": [
    "**Задача 1. (10 баллов)** \n",
    "\n",
    "Найдите две или более группы, которые публикуют достаточно содержательные посты (например, новости, рецепты и т.п.). Тематика групп должна быть различной. \n",
    "\n",
    "С помощью [wall.get](https://vk.com/dev/wall.get) скачайте посты данных групп и сформируйте корпуса текстов."
   ]
  },
  {
   "cell_type": "code",
   "execution_count": null,
   "metadata": {
    "collapsed": true
   },
   "outputs": [],
   "source": []
  },
  {
   "cell_type": "markdown",
   "metadata": {},
   "source": [
    "**Задача 2. (15 баллов)**\n",
    "\n",
    "Предобработайте текст: \n",
    "* Отчистите от мусора\n",
    "* Лемматизируйте\n",
    "* Удалите стоп-слова\n",
    "\n",
    "Список стоп-слов можно получить с помощью модуля [stop-words](https://pypi.python.org/pypi/stop-words)"
   ]
  },
  {
   "cell_type": "code",
   "execution_count": null,
   "metadata": {
    "collapsed": true
   },
   "outputs": [],
   "source": []
  },
  {
   "cell_type": "markdown",
   "metadata": {},
   "source": [
    "** Задача 3. (5 баллов)**\n",
    "\n",
    "Воспользуйтесь [TfidfVectorizer](http://scikit-learn.org/stable/modules/generated/sklearn.feature_extraction.text.TfidfVectorizer.html) для определения топ-токинов для каждого сообщества.\n",
    "\n",
    "Распечатайте название  и топ-токенов для каждого сообщества."
   ]
  },
  {
   "cell_type": "code",
   "execution_count": null,
   "metadata": {
    "collapsed": true
   },
   "outputs": [],
   "source": []
  },
  {
   "cell_type": "markdown",
   "metadata": {},
   "source": [
    "**Задача 4.(5 баллов)**\n",
    "\n",
    "Визиализируйте токены для каждого сообщества с помощью [WORDCLOUD](https://python-graph-gallery.com/wordcloud/)"
   ]
  },
  {
   "cell_type": "code",
   "execution_count": null,
   "metadata": {
    "collapsed": true
   },
   "outputs": [],
   "source": []
  },
  {
   "cell_type": "markdown",
   "metadata": {},
   "source": [
    "**Задача 5.(15 баллов)**\n",
    "\n",
    "Для каждого сообщества найдите статистические значиммые коллокации с помощью PMI"
   ]
  },
  {
   "cell_type": "code",
   "execution_count": null,
   "metadata": {
    "collapsed": true
   },
   "outputs": [],
   "source": []
  }
 ],
 "metadata": {
  "kernelspec": {
   "display_name": "Python 3",
   "language": "python",
   "name": "python3"
  },
  "language_info": {
   "codemirror_mode": {
    "name": "ipython",
    "version": 3
   },
   "file_extension": ".py",
   "mimetype": "text/x-python",
   "name": "python",
   "nbconvert_exporter": "python",
   "pygments_lexer": "ipython3",
   "version": "3.6.3"
  }
 },
 "nbformat": 4,
 "nbformat_minor": 2
}
