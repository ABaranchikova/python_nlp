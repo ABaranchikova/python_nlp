{
 "cells": [
  {
   "cell_type": "markdown",
   "metadata": {},
   "source": [
    "### Работа с файлами"
   ]
  },
  {
   "cell_type": "markdown",
   "metadata": {},
   "source": [
    "Файл - именованная облась постоянной памяти в компьютере, которой управляет ОС"
   ]
  },
  {
   "cell_type": "markdown",
   "metadata": {},
   "source": [
    "Чтобы создать объект файла, необходимо вызвать встроенную функцию open, передав ей имя внешнего файла и строку режима доступа к файлу "
   ]
  },
  {
   "cell_type": "code",
   "execution_count": 1,
   "metadata": {
    "collapsed": true
   },
   "outputs": [],
   "source": [
    "fl = open('text.txt', 'w') #открываем файл на запись; режим w\n",
    "fl.write('Hello world!') #возвращается колличество записаных байтов\n",
    "fl.close() "
   ]
  },
  {
   "cell_type": "code",
   "execution_count": 2,
   "metadata": {},
   "outputs": [
    {
     "name": "stdout",
     "output_type": "stream",
     "text": [
      "Hello world!\n"
     ]
    }
   ],
   "source": [
    "fl = open('text.txt', 'r') #открываем файл для чтения; режим r (этот режим устанавливается по умолчанию)\n",
    "text = fl.read() #читаем файл и возвращаем прочитанный текст\n",
    "fl.close()\n",
    "\n",
    "print(text)"
   ]
  },
  {
   "cell_type": "code",
   "execution_count": 3,
   "metadata": {},
   "outputs": [
    {
     "name": "stdout",
     "output_type": "stream",
     "text": [
      "Hello\n"
     ]
    }
   ],
   "source": [
    "fl = open('text.txt') \n",
    "text = fl.read(5) #читаем 5 символов\n",
    "fl.close()\n",
    "\n",
    "print(text)"
   ]
  },
  {
   "cell_type": "code",
   "execution_count": 4,
   "metadata": {
    "collapsed": true
   },
   "outputs": [],
   "source": [
    "fl = open('text.txt', 'a') #открываем на запись вконце файла\n",
    "fl.write('\\nIt\\'s my first file!')\n",
    "fl.close()"
   ]
  },
  {
   "cell_type": "code",
   "execution_count": 5,
   "metadata": {},
   "outputs": [
    {
     "data": {
      "text/plain": [
       "'Hello world!\\n'"
      ]
     },
     "execution_count": 5,
     "metadata": {},
     "output_type": "execute_result"
    }
   ],
   "source": [
    "fl = open('text.txt')\n",
    "fl.readline() #чтение следующей текстовой строки (включая символ конца строки) в строку"
   ]
  },
  {
   "cell_type": "code",
   "execution_count": 6,
   "metadata": {},
   "outputs": [
    {
     "data": {
      "text/plain": [
       "\"It's my first file!\""
      ]
     },
     "execution_count": 6,
     "metadata": {},
     "output_type": "execute_result"
    }
   ],
   "source": [
    "fl.readline()"
   ]
  },
  {
   "cell_type": "code",
   "execution_count": 7,
   "metadata": {
    "collapsed": true
   },
   "outputs": [],
   "source": [
    "fl.close()"
   ]
  },
  {
   "cell_type": "code",
   "execution_count": 8,
   "metadata": {},
   "outputs": [
    {
     "name": "stdout",
     "output_type": "stream",
     "text": [
      "['Hello world!\\n', \"It's my first file!\"]\n"
     ]
    }
   ],
   "source": [
    "fl = open('text.txt')\n",
    "text_lines = fl.readlines() #чтение файла целиком в список строк\n",
    "fl.close()\n",
    "\n",
    "print(text_lines)"
   ]
  },
  {
   "cell_type": "code",
   "execution_count": 9,
   "metadata": {
    "collapsed": true
   },
   "outputs": [],
   "source": [
    "fl = open('text.txt', 'w') #если мы повторно открываем файл на запись, то он перезаписывается \n",
    "fl.writelines(text_lines) #запись всех строк из списка в файл\n",
    "fl.close()"
   ]
  },
  {
   "cell_type": "code",
   "execution_count": 10,
   "metadata": {},
   "outputs": [
    {
     "name": "stdout",
     "output_type": "stream",
     "text": [
      "Hello world!\n",
      "\n",
      "It's my first file!\n"
     ]
    }
   ],
   "source": [
    "#если необходимо просмотреть содержимое файла строку за строкой, лучшим выбором будет итератор файла\n",
    "for line in open('text.txt'):\n",
    "    print(line)\n",
    "#Почему есть пропуск строки?"
   ]
  },
  {
   "cell_type": "code",
   "execution_count": 11,
   "metadata": {},
   "outputs": [
    {
     "name": "stdout",
     "output_type": "stream",
     "text": [
      "Hello world!\n",
      "It's my first file!\n"
     ]
    }
   ],
   "source": [
    "#что бы не закрывать каждый раз файл вручную можно делать так\n",
    "with open('text.txt') as fl:\n",
    "    text = fl.read()\n",
    "    \n",
    "print(text)"
   ]
  },
  {
   "cell_type": "markdown",
   "metadata": {},
   "source": [
    "### Задача 1"
   ]
  },
  {
   "cell_type": "markdown",
   "metadata": {},
   "source": [
    "Создайте и запишите в файл матрицу, а затем считайте её из файла"
   ]
  },
  {
   "cell_type": "code",
   "execution_count": 21,
   "metadata": {
    "collapsed": true
   },
   "outputs": [],
   "source": [
    "matrix = [[1, 2, 3], [4, 5, 6], [7, 8, 9]]\n",
    "\n",
    "with open('text_problem_1.txt', 'w') as fl:\n",
    "    for row in matrix:\n",
    "        fl.write(' '.join([str(x) for x in row])+'\\n')\n",
    "\n",
    "read_matrix = []\n",
    "with open('text_problem_1.txt') as fl:\n",
    "    for line in fl:\n",
    "        row = [int(x) for x in line[:-1].split()]\n",
    "        read_matrix.append(row)\n",
    "\n",
    "assert matrix == read_matrix"
   ]
  },
  {
   "cell_type": "markdown",
   "metadata": {},
   "source": [
    "### Регулярные выражения"
   ]
  },
  {
   "cell_type": "markdown",
   "metadata": {
    "collapsed": true
   },
   "source": [
    "Регулярные выражения — формальный язык поиска и осуществления манипуляций с подстроками в тексте, основанный на использовании метасимволов"
   ]
  },
  {
   "cell_type": "code",
   "execution_count": 2,
   "metadata": {
    "collapsed": true
   },
   "outputs": [],
   "source": [
    "import re"
   ]
  },
  {
   "cell_type": "markdown",
   "metadata": {},
   "source": [
    "Метасимволы ^ . $  * + ? { }[ ] \\ | ( )"
   ]
  },
  {
   "cell_type": "markdown",
   "metadata": {},
   "source": [
    "Рассмотрим далее значение всех метасимволов"
   ]
  },
  {
   "cell_type": "markdown",
   "metadata": {},
   "source": [
    "[ ] - используются для определения класса символов, являющегося набором символов, с которыми вы ищите совпадение. \n",
    "Перечисление допустимо как ввиде отдельных символов [acbd], так и ввиде диапазона [a-d]."
   ]
  },
  {
   "cell_type": "code",
   "execution_count": 4,
   "metadata": {},
   "outputs": [
    {
     "data": {
      "text/plain": [
       "'Alph SUB  SUB et In SUB .'"
      ]
     },
     "execution_count": 4,
     "metadata": {},
     "output_type": "execute_result"
    }
   ],
   "source": [
    "re.sub(r'[a-c]', ' SUB ', 'Alphabet Inc.')"
   ]
  },
  {
   "cell_type": "markdown",
   "metadata": {},
   "source": [
    "Добавляем перед классом символ ^ для того, что бы искать совпадение вне класса"
   ]
  },
  {
   "cell_type": "code",
   "execution_count": 5,
   "metadata": {},
   "outputs": [
    {
     "data": {
      "text/plain": [
       "' SUB  SUB  SUB  SUB ab SUB  SUB  SUB  SUB  SUB c SUB '"
      ]
     },
     "execution_count": 5,
     "metadata": {},
     "output_type": "execute_result"
    }
   ],
   "source": [
    "re.sub(r'[^a-c]', ' SUB ', 'Alphabet Inc.')"
   ]
  },
  {
   "cell_type": "markdown",
   "metadata": {},
   "source": [
    "\\ - служит для экранирование метасимволов"
   ]
  },
  {
   "cell_type": "code",
   "execution_count": 6,
   "metadata": {},
   "outputs": [
    {
     "data": {
      "text/plain": [
       "'|Hello| |World| |!|'"
      ]
     },
     "execution_count": 6,
     "metadata": {},
     "output_type": "execute_result"
    }
   ],
   "source": [
    "re.sub(r'[\\[\\]]', '|', '[Hello] [World] [!]')"
   ]
  },
  {
   "cell_type": "markdown",
   "metadata": {},
   "source": [
    "Так же с \\ начинаются некоторые специальные последовательности\n",
    "\n",
    "Такие как\n",
    "\n",
    "\\d - любая цифра\n",
    "\n",
    "\\D - любой нечисловой символ\n",
    "\n",
    "\\s - любой символ whitespace\n",
    "\n",
    "\\S - любой не-whitespace символ\n",
    "\n",
    "\\w - любая буква или цифра или знак подчеркивания\n",
    "\n",
    "\\W -  любой символ отличный от буквы, цифры, знака подчеркивания\n",
    "\n",
    "Последовательности могут быть включены в классы символов, например [\\s,.]"
   ]
  },
  {
   "cell_type": "code",
   "execution_count": 8,
   "metadata": {},
   "outputs": [
    {
     "data": {
      "text/plain": [
       "['H', 'e', 'l', 'l', 'o', 'W', 'o', 'r', 'l', 'd']"
      ]
     },
     "execution_count": 8,
     "metadata": {},
     "output_type": "execute_result"
    }
   ],
   "source": [
    "re.findall(r'\\w', 'Hello World!')"
   ]
  },
  {
   "cell_type": "markdown",
   "metadata": {},
   "source": [
    "Метасимвол . соответсвует любому символу, кроме символа новой строки"
   ]
  },
  {
   "cell_type": "code",
   "execution_count": 12,
   "metadata": {},
   "outputs": [
    {
     "data": {
      "text/plain": [
       "['Hello', 'World']"
      ]
     },
     "execution_count": 12,
     "metadata": {},
     "output_type": "execute_result"
    }
   ],
   "source": [
    "re.findall(r'\\w....', 'Hello World!')"
   ]
  },
  {
   "cell_type": "markdown",
   "metadata": {},
   "source": [
    "Можем указывать какое число раз должна повторятся часть регулярного выражения. Для этого используются следующие метосимволы:\n",
    "\n",
    "\\* - указывает, что предыдущий символ может быть сопоставлен ноль и более раз, вместо одного сравнения\n",
    "\n",
    "\\+ - повторяющий последовательность сравнения один или более раз\n",
    "\n",
    "? - проверяющий наличие совпадения ноль или один раз\n",
    "\n",
    "{m, n} - определитель означает, что здесь должно быть не менее m и не более n повторений"
   ]
  },
  {
   "cell_type": "code",
   "execution_count": 15,
   "metadata": {},
   "outputs": [
    {
     "name": "stdout",
     "output_type": "stream",
     "text": [
      "\\w*  --  ['a', '', 'aa', '', 'aaa', '', 'aaaa', '', 'aaaaa', '']\n",
      "\\w+  --  ['a', 'aa', 'aaa', 'aaaa', 'aaaaa']\n",
      "\\w?  --  ['a', '', 'a', 'a', '', 'a', 'a', 'a', '', 'a', 'a', 'a', 'a', '', 'a', 'a', 'a', 'a', 'a', '']\n",
      "\\w{1,4}  --  ['a', 'aa', 'aaa', 'aaaa', 'aaaa', 'a']\n"
     ]
    }
   ],
   "source": [
    "for r in [r'\\w*', r'\\w+', r'\\w?', r'\\w{1,4}']:\n",
    "    print(r, ' -- ', re.findall(r, 'a aa aaa aaaa aaaaa'))"
   ]
  },
  {
   "cell_type": "markdown",
   "metadata": {},
   "source": [
    "Ещё некоторые методы\n",
    "\n",
    "re.search(pattern, string) - сканировать всю строку в поисках всех мест совпадений с регулярным выражением\n",
    "\n",
    "re.match(pattern, string) - определить, начинается ли совпадение регулярного выражения с начала строки\n",
    "\n",
    "re.finditer(pattern, string) - найти все подстроки совпадений с регулярным выражением и вернуть их в виде итератора\n",
    "\n",
    "Более подробно о модуле re можно почитать тут https://docs.python.org/3/library/re.html"
   ]
  },
  {
   "cell_type": "markdown",
   "metadata": {},
   "source": [
    "### Задача 2"
   ]
  },
  {
   "cell_type": "markdown",
   "metadata": {},
   "source": [
    "Прочитайте содержимое файла story.txt, выделите множество слов с помощью регулярных выражений и составте словарь, где ключь - слово, а значение - число его вхождений в файл. Вывести на экран 10 наиболее частотных слов."
   ]
  },
  {
   "cell_type": "code",
   "execution_count": null,
   "metadata": {
    "collapsed": true
   },
   "outputs": [],
   "source": [
    "vocabulary = {}\n",
    "with open('story.txt') as fl:\n",
    "    for word in re.findall(r'\\w+', fl.read().lower()):\n",
    "        vocabulary.setdefault(word, 0)\n",
    "        vocabulary[word] += 1\n",
    "\n",
    "top_words, _ = zip(*sorted(vocabulary.items(), key=lambda x: x[1], reverse=True)[:10])\n",
    "print(', '.join(top_words))"
   ]
  },
  {
   "cell_type": "markdown",
   "metadata": {},
   "source": [
    "### Задача 3"
   ]
  },
  {
   "cell_type": "markdown",
   "metadata": {},
   "source": [
    "Написать функцию, которая определяет является строка email-ом "
   ]
  },
  {
   "cell_type": "code",
   "execution_count": 23,
   "metadata": {
    "collapsed": true
   },
   "outputs": [],
   "source": [
    "strings = ['mail@mail.ru', 'bug@@@com.ru', 'bug@@@com.ru', '@val.ru', 'valid@megapochta.com', 'Just Text2',\n",
    "           'val@val', 'aa@aa.info', 'bug@@@com.ru', 'val@val.a.a.a.a', '12323123@111[]][] ']"
   ]
  }
 ],
 "metadata": {
  "kernelspec": {
   "display_name": "Python 3",
   "language": "python",
   "name": "python3"
  },
  "language_info": {
   "codemirror_mode": {
    "name": "ipython",
    "version": 3
   },
   "file_extension": ".py",
   "mimetype": "text/x-python",
   "name": "python",
   "nbconvert_exporter": "python",
   "pygments_lexer": "ipython3",
   "version": "3.5.2"
  }
 },
 "nbformat": 4,
 "nbformat_minor": 2
}
