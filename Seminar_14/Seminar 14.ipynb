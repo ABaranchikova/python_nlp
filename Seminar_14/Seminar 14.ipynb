{
 "cells": [
  {
   "cell_type": "markdown",
   "metadata": {},
   "source": [
    "## Sentiment\n",
    "\n",
    "На данном семинаре мы попробуем определять эмоциональную окраску текста.\n",
    "\n",
    "Прочитайте данные из таблицы ```bankiru.csv``` (в таблицы нет заголовков - используйте ```header=None```). В данной таблице содержаться отзывы об Альфа-Банке и время когда они были опубликованы.  Отранжируйте отзывы по времени.\n",
    "\n",
    "С помощью библиотеки [polyglot](http://polyglot.readthedocs.io/en/latest/index.html) в каждом отзыве определите колличество отрицательных и положительных слов - подробнее [тут](http://polyglot.readthedocs.io/en/latest/Sentiment.html). \n",
    "\n",
    "Придумайте, как по этой информации получить значения положительного и отрицательного сентимента (значения должны варьироваться от 0-1). \n",
    "\n",
    "Найдите среднее значение сентиментов за каждый день и постройте графики зависимости положительного и отрицательного сентимента от времени."
   ]
  },
  {
   "cell_type": "code",
   "execution_count": null,
   "metadata": {
    "collapsed": true
   },
   "outputs": [],
   "source": []
  }
 ],
 "metadata": {
  "kernelspec": {
   "display_name": "Python 3",
   "language": "python",
   "name": "python3"
  },
  "language_info": {
   "codemirror_mode": {
    "name": "ipython",
    "version": 3
   },
   "file_extension": ".py",
   "mimetype": "text/x-python",
   "name": "python",
   "nbconvert_exporter": "python",
   "pygments_lexer": "ipython3",
   "version": "3.6.3"
  }
 },
 "nbformat": 4,
 "nbformat_minor": 2
}
